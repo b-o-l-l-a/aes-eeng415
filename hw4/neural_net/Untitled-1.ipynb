{
 "cells": [
  {
   "cell_type": "code",
   "execution_count": 34,
   "metadata": {},
   "outputs": [],
   "source": [
    "sample_size  = 500\n",
    "\n",
    "number_of_elements_in_input_array = 2\n",
    "number_of_neurons_in_hidden_layer = 10\n",
    "number_of_outputs = 1\n",
    "\n",
    "input_weight_array = np.array([\n",
    "    [random.uniform(-1, 1), 1] for x in range(number_of_neurons_in_hidden_layer)\n",
    "])\n",
    "    \n",
    "output_weight_array = np.array([\n",
    "    [random.uniform(-1, 1), 1] for x in range(number_of_outputs)\n",
    "])\n",
    "    \n",
    "def y_true_fxn(input):\n",
    "\n",
    "    return (2 * input**2 + 1)\n",
    "\n",
    "for i in range(sample_size):\n",
    "    x = np.array([random.uniform(-1, 1), 1])\n",
    "    \n",
    "    activation_fxn_result = input_weight_array * x\n",
    "    decision_fxn_result = np.tanh(activation_fxn_result)\n",
    "    y_hat = output_weight_array * decision_fxn_result\n",
    "    error = y_true_fxn(x) - y_hat "
   ]
  },
  {
   "cell_type": "code",
   "execution_count": 36,
   "metadata": {},
   "outputs": [
    {
     "data": {
      "text/plain": [
       "array([[1.94828764, 2.23840584],\n",
       "       [2.22946729, 2.23840584],\n",
       "       [1.87890493, 2.23840584],\n",
       "       [1.69567646, 2.23840584],\n",
       "       [2.23980497, 2.23840584],\n",
       "       [1.59496437, 2.23840584],\n",
       "       [1.5672102 , 2.23840584],\n",
       "       [2.06404307, 2.23840584],\n",
       "       [1.457394  , 2.23840584],\n",
       "       [2.28605407, 2.23840584]])"
      ]
     },
     "execution_count": 36,
     "metadata": {},
     "output_type": "execute_result"
    }
   ],
   "source": [
    "error"
   ]
  }
 ],
 "metadata": {
  "kernelspec": {
   "display_name": "eeng415",
   "language": "python",
   "name": "python3"
  },
  "language_info": {
   "codemirror_mode": {
    "name": "ipython",
    "version": 3
   },
   "file_extension": ".py",
   "mimetype": "text/x-python",
   "name": "python",
   "nbconvert_exporter": "python",
   "pygments_lexer": "ipython3",
   "version": "3.8.16"
  },
  "orig_nbformat": 4
 },
 "nbformat": 4,
 "nbformat_minor": 2
}
