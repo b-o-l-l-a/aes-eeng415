{
 "cells": [
  {
   "cell_type": "code",
   "execution_count": 1,
   "metadata": {},
   "outputs": [],
   "source": [
    "x1 = [0, 0, 1, 0, 0, 0, 0, 1, 0, 0, 1, 1, 1, 1, 1, 0, 0, 1, 0, 0, 0, 0, 1, 0, 0, 1] # +\n",
    "x2 = [0, 1, 1, 1, 0, 1, 0, 0, 0, 1, 1, 0, 0, 0, 1, 1, 0, 0, 0, 1, 0, 1, 1, 1, 0, 1] # O\n",
    "x3 = [0, 0, 0, 1, 1, 0, 0, 1, 0, 0, 1, 1, 0, 0, 0, 0, 0, 1, 0, 0, 0, 0, 0, 1, 1, 1] # <\n",
    "x4 = [1, 1, 1, 1, 1, 1, 0, 0, 0, 0, 1, 1, 1, 1, 1, 0, 0, 0, 0, 1, 1, 1, 1, 1, 1, 1] # S\n",
    "x5 = [0, 1, 1, 1, 0, 1, 0, 1, 0, 1, 1, 0, 1, 0, 1, 1, 0, 1, 0, 1, 0, 1, 1, 1, 0, 1] # psi\n",
    "x6 = [1, 1, 0, 0, 0, 0, 0, 1, 0, 0, 0, 0, 0, 1, 1, 0, 0, 1, 0, 0, 1, 1, 0, 0, 0, 1] # >"
   ]
  },
  {
   "cell_type": "code",
   "execution_count": 2,
   "metadata": {},
   "outputs": [
    {
     "name": "stderr",
     "output_type": "stream",
     "text": [
      "2023-05-05 19:15:27.229645: I tensorflow/core/platform/cpu_feature_guard.cc:193] This TensorFlow binary is optimized with oneAPI Deep Neural Network Library (oneDNN) to use the following CPU instructions in performance-critical operations:  SSE4.1 SSE4.2\n",
      "To enable them in other operations, rebuild TensorFlow with the appropriate compiler flags.\n",
      "2023-05-05 19:15:30.210456: I tensorflow/core/platform/cpu_feature_guard.cc:193] This TensorFlow binary is optimized with oneAPI Deep Neural Network Library (oneDNN) to use the following CPU instructions in performance-critical operations:  SSE4.1 SSE4.2\n",
      "To enable them in other operations, rebuild TensorFlow with the appropriate compiler flags.\n"
     ]
    }
   ],
   "source": [
    "from keras.models import Sequential\n",
    "from keras.layers import Dense\n",
    "from tensorflow.keras.optimizers import Adam\n",
    "import numpy as np\n",
    "import random\n",
    "\n",
    "model = Sequential()\n",
    "model.add(Dense(12, input_dim =26, activation = 'relu'))\n",
    "model.add(Dense(6, activation='softmax'))\n",
    "\n",
    "model.compile(loss='mse', optimizer=Adam(learning_rate=0.001), metrics=['accuracy'])\n",
    "\n",
    "# to build training data. \n",
    "# index of ANN_TRUTH_SET_X matches index of one-hot encoded response in ANN_TRUTH_SET_Y\n",
    "ANN_TRUTH_SET_X = [x1, x2, x3, x4, x5, x6]\n",
    "ANN_TRUTH_SET_Y = [\n",
    "    [1, 0, 0, 0, 0, 0],\n",
    "    [0, 1, 0, 0, 0, 0],\n",
    "    [0, 0, 1, 0, 0, 0],\n",
    "    [0, 0, 0, 1, 0, 0],\n",
    "    [0, 0, 0, 0, 1, 0],\n",
    "    [0, 0, 0, 0, 0, 1]\n",
    "]\n",
    "\n",
    "LEN_OF_TRAINING_DATA = 1000\n",
    "\n",
    "X = [x1, x2, x3, x4, x5, x6]\n",
    "Y = [\n",
    "    [1, 0, 0, 0, 0, 0],\n",
    "    [0, 1, 0, 0, 0, 0],\n",
    "    [0, 0, 1, 0, 0, 0],\n",
    "    [0, 0, 0, 1, 0, 0],\n",
    "    [0, 0, 0, 0, 1, 0],\n",
    "    [0, 0, 0, 0, 0, 1]\n",
    "]\n",
    "\n",
    "for i in range(LEN_OF_TRAINING_DATA):\n",
    "    # choose random integer to add that index of ANN_TRUTH_SET to training data\n",
    "    rand_int = random.randint(0, 5) \n",
    "    X.append(ANN_TRUTH_SET_X[rand_int])\n",
    "    Y.append(ANN_TRUTH_SET_Y[rand_int])\n",
    "\n",
    "X = np.array(X)\n",
    "Y = np.array(Y)\n",
    "\n",
    "\n",
    "#scores = model"
   ]
  },
  {
   "cell_type": "code",
   "execution_count": 3,
   "metadata": {},
   "outputs": [
    {
     "name": "stdout",
     "output_type": "stream",
     "text": [
      "Epoch 1/150\n",
      "101/101 [==============================] - 0s 749us/step - loss: 0.1093 - accuracy: 0.5775\n",
      "Epoch 2/150\n",
      "101/101 [==============================] - 0s 879us/step - loss: 0.0666 - accuracy: 0.7097\n",
      "Epoch 3/150\n",
      "101/101 [==============================] - 0s 912us/step - loss: 0.0371 - accuracy: 1.0000\n",
      "Epoch 4/150\n",
      "101/101 [==============================] - 0s 808us/step - loss: 0.0130 - accuracy: 1.0000\n",
      "Epoch 5/150\n",
      "101/101 [==============================] - 0s 789us/step - loss: 0.0048 - accuracy: 1.0000\n",
      "Epoch 6/150\n",
      "101/101 [==============================] - 0s 767us/step - loss: 0.0025 - accuracy: 1.0000\n",
      "Epoch 7/150\n",
      "101/101 [==============================] - 0s 734us/step - loss: 0.0015 - accuracy: 1.0000\n",
      "Epoch 8/150\n",
      "101/101 [==============================] - 0s 785us/step - loss: 0.0010 - accuracy: 1.0000\n",
      "Epoch 9/150\n",
      "101/101 [==============================] - 0s 809us/step - loss: 7.3333e-04 - accuracy: 1.0000\n",
      "Epoch 10/150\n",
      "101/101 [==============================] - 0s 788us/step - loss: 5.5474e-04 - accuracy: 1.0000\n",
      "Epoch 11/150\n",
      "101/101 [==============================] - 0s 788us/step - loss: 4.3417e-04 - accuracy: 1.0000\n",
      "Epoch 12/150\n",
      "101/101 [==============================] - 0s 777us/step - loss: 3.4786e-04 - accuracy: 1.0000\n",
      "Epoch 13/150\n",
      "101/101 [==============================] - 0s 787us/step - loss: 2.8527e-04 - accuracy: 1.0000\n",
      "Epoch 14/150\n",
      "101/101 [==============================] - 0s 790us/step - loss: 2.3790e-04 - accuracy: 1.0000\n",
      "Epoch 15/150\n",
      "101/101 [==============================] - 0s 782us/step - loss: 2.0113e-04 - accuracy: 1.0000\n",
      "Epoch 16/150\n",
      "101/101 [==============================] - 0s 761us/step - loss: 1.7184e-04 - accuracy: 1.0000\n",
      "Epoch 17/150\n",
      "101/101 [==============================] - 0s 831us/step - loss: 1.4832e-04 - accuracy: 1.0000\n",
      "Epoch 18/150\n",
      "101/101 [==============================] - 0s 837us/step - loss: 1.2928e-04 - accuracy: 1.0000\n",
      "Epoch 19/150\n",
      "101/101 [==============================] - 0s 795us/step - loss: 1.1339e-04 - accuracy: 1.0000\n",
      "Epoch 20/150\n",
      "101/101 [==============================] - 0s 764us/step - loss: 1.0016e-04 - accuracy: 1.0000\n",
      "Epoch 21/150\n",
      "101/101 [==============================] - 0s 727us/step - loss: 8.8936e-05 - accuracy: 1.0000\n",
      "Epoch 22/150\n",
      "101/101 [==============================] - 0s 756us/step - loss: 7.9340e-05 - accuracy: 1.0000\n",
      "Epoch 23/150\n",
      "101/101 [==============================] - 0s 752us/step - loss: 7.1224e-05 - accuracy: 1.0000\n",
      "Epoch 24/150\n",
      "101/101 [==============================] - 0s 709us/step - loss: 6.4033e-05 - accuracy: 1.0000\n",
      "Epoch 25/150\n",
      "101/101 [==============================] - 0s 802us/step - loss: 5.7840e-05 - accuracy: 1.0000\n",
      "Epoch 26/150\n",
      "101/101 [==============================] - 0s 764us/step - loss: 5.2400e-05 - accuracy: 1.0000\n",
      "Epoch 27/150\n",
      "101/101 [==============================] - 0s 788us/step - loss: 4.7616e-05 - accuracy: 1.0000\n",
      "Epoch 28/150\n",
      "101/101 [==============================] - 0s 795us/step - loss: 4.3419e-05 - accuracy: 1.0000\n",
      "Epoch 29/150\n",
      "101/101 [==============================] - 0s 807us/step - loss: 3.9670e-05 - accuracy: 1.0000\n",
      "Epoch 30/150\n",
      "101/101 [==============================] - 0s 739us/step - loss: 3.6315e-05 - accuracy: 1.0000\n",
      "Epoch 31/150\n",
      "101/101 [==============================] - 0s 718us/step - loss: 3.3318e-05 - accuracy: 1.0000\n",
      "Epoch 32/150\n",
      "101/101 [==============================] - 0s 706us/step - loss: 3.0646e-05 - accuracy: 1.0000\n",
      "Epoch 33/150\n",
      "101/101 [==============================] - 0s 777us/step - loss: 2.8221e-05 - accuracy: 1.0000\n",
      "Epoch 34/150\n",
      "101/101 [==============================] - 0s 711us/step - loss: 2.6025e-05 - accuracy: 1.0000\n",
      "Epoch 35/150\n",
      "101/101 [==============================] - 0s 708us/step - loss: 2.4053e-05 - accuracy: 1.0000\n",
      "Epoch 36/150\n",
      "101/101 [==============================] - 0s 868us/step - loss: 2.2237e-05 - accuracy: 1.0000\n",
      "Epoch 37/150\n",
      "101/101 [==============================] - 0s 718us/step - loss: 2.0603e-05 - accuracy: 1.0000\n",
      "Epoch 38/150\n",
      "101/101 [==============================] - 0s 734us/step - loss: 1.9115e-05 - accuracy: 1.0000\n",
      "Epoch 39/150\n",
      "101/101 [==============================] - 0s 721us/step - loss: 1.7738e-05 - accuracy: 1.0000\n",
      "Epoch 40/150\n",
      "101/101 [==============================] - 0s 741us/step - loss: 1.6482e-05 - accuracy: 1.0000\n",
      "Epoch 41/150\n",
      "101/101 [==============================] - 0s 735us/step - loss: 1.5333e-05 - accuracy: 1.0000\n",
      "Epoch 42/150\n",
      "101/101 [==============================] - 0s 699us/step - loss: 1.4278e-05 - accuracy: 1.0000\n",
      "Epoch 43/150\n",
      "101/101 [==============================] - 0s 696us/step - loss: 1.3310e-05 - accuracy: 1.0000\n",
      "Epoch 44/150\n",
      "101/101 [==============================] - 0s 695us/step - loss: 1.2417e-05 - accuracy: 1.0000\n",
      "Epoch 45/150\n",
      "101/101 [==============================] - 0s 685us/step - loss: 1.1588e-05 - accuracy: 1.0000\n",
      "Epoch 46/150\n",
      "101/101 [==============================] - 0s 711us/step - loss: 1.0829e-05 - accuracy: 1.0000\n",
      "Epoch 47/150\n",
      "101/101 [==============================] - 0s 694us/step - loss: 1.0122e-05 - accuracy: 1.0000\n",
      "Epoch 48/150\n",
      "101/101 [==============================] - 0s 696us/step - loss: 9.4677e-06 - accuracy: 1.0000\n",
      "Epoch 49/150\n",
      "101/101 [==============================] - 0s 688us/step - loss: 8.8610e-06 - accuracy: 1.0000\n",
      "Epoch 50/150\n",
      "101/101 [==============================] - 0s 688us/step - loss: 8.2991e-06 - accuracy: 1.0000\n",
      "Epoch 51/150\n",
      "101/101 [==============================] - 0s 695us/step - loss: 7.7771e-06 - accuracy: 1.0000\n",
      "Epoch 52/150\n",
      "101/101 [==============================] - 0s 678us/step - loss: 7.2918e-06 - accuracy: 1.0000\n",
      "Epoch 53/150\n",
      "101/101 [==============================] - 0s 712us/step - loss: 6.8415e-06 - accuracy: 1.0000\n",
      "Epoch 54/150\n",
      "101/101 [==============================] - 0s 741us/step - loss: 6.4184e-06 - accuracy: 1.0000\n",
      "Epoch 55/150\n",
      "101/101 [==============================] - 0s 686us/step - loss: 6.0258e-06 - accuracy: 1.0000\n",
      "Epoch 56/150\n",
      "101/101 [==============================] - 0s 675us/step - loss: 5.6576e-06 - accuracy: 1.0000\n",
      "Epoch 57/150\n",
      "101/101 [==============================] - 0s 681us/step - loss: 5.3153e-06 - accuracy: 1.0000\n",
      "Epoch 58/150\n",
      "101/101 [==============================] - 0s 683us/step - loss: 4.9952e-06 - accuracy: 1.0000\n",
      "Epoch 59/150\n",
      "101/101 [==============================] - 0s 676us/step - loss: 4.6957e-06 - accuracy: 1.0000\n",
      "Epoch 60/150\n",
      "101/101 [==============================] - 0s 688us/step - loss: 4.4168e-06 - accuracy: 1.0000\n",
      "Epoch 61/150\n",
      "101/101 [==============================] - 0s 675us/step - loss: 4.1545e-06 - accuracy: 1.0000\n",
      "Epoch 62/150\n",
      "101/101 [==============================] - 0s 687us/step - loss: 3.9101e-06 - accuracy: 1.0000\n",
      "Epoch 63/150\n",
      "101/101 [==============================] - 0s 699us/step - loss: 3.6803e-06 - accuracy: 1.0000\n",
      "Epoch 64/150\n",
      "101/101 [==============================] - 0s 696us/step - loss: 3.4658e-06 - accuracy: 1.0000\n",
      "Epoch 65/150\n",
      "101/101 [==============================] - 0s 686us/step - loss: 3.2659e-06 - accuracy: 1.0000\n",
      "Epoch 66/150\n",
      "101/101 [==============================] - 0s 710us/step - loss: 3.0758e-06 - accuracy: 1.0000\n",
      "Epoch 67/150\n",
      "101/101 [==============================] - 0s 685us/step - loss: 2.8978e-06 - accuracy: 1.0000\n",
      "Epoch 68/150\n",
      "101/101 [==============================] - 0s 733us/step - loss: 2.7299e-06 - accuracy: 1.0000\n",
      "Epoch 69/150\n",
      "101/101 [==============================] - 0s 806us/step - loss: 2.5740e-06 - accuracy: 1.0000\n",
      "Epoch 70/150\n",
      "101/101 [==============================] - 0s 808us/step - loss: 2.4269e-06 - accuracy: 1.0000\n",
      "Epoch 71/150\n",
      "101/101 [==============================] - 0s 720us/step - loss: 2.2880e-06 - accuracy: 1.0000\n",
      "Epoch 72/150\n",
      "101/101 [==============================] - 0s 708us/step - loss: 2.1587e-06 - accuracy: 1.0000\n",
      "Epoch 73/150\n",
      "101/101 [==============================] - 0s 689us/step - loss: 2.0362e-06 - accuracy: 1.0000\n",
      "Epoch 74/150\n",
      "101/101 [==============================] - 0s 691us/step - loss: 1.9217e-06 - accuracy: 1.0000\n",
      "Epoch 75/150\n",
      "101/101 [==============================] - 0s 685us/step - loss: 1.8127e-06 - accuracy: 1.0000\n",
      "Epoch 76/150\n",
      "101/101 [==============================] - 0s 692us/step - loss: 1.7112e-06 - accuracy: 1.0000\n",
      "Epoch 77/150\n",
      "101/101 [==============================] - 0s 682us/step - loss: 1.6157e-06 - accuracy: 1.0000\n",
      "Epoch 78/150\n",
      "101/101 [==============================] - 0s 681us/step - loss: 1.5252e-06 - accuracy: 1.0000\n",
      "Epoch 79/150\n",
      "101/101 [==============================] - 0s 684us/step - loss: 1.4399e-06 - accuracy: 1.0000\n",
      "Epoch 80/150\n",
      "101/101 [==============================] - 0s 695us/step - loss: 1.3596e-06 - accuracy: 1.0000\n",
      "Epoch 81/150\n",
      "101/101 [==============================] - 0s 690us/step - loss: 1.2840e-06 - accuracy: 1.0000\n",
      "Epoch 82/150\n",
      "101/101 [==============================] - 0s 702us/step - loss: 1.2131e-06 - accuracy: 1.0000\n",
      "Epoch 83/150\n",
      "101/101 [==============================] - 0s 697us/step - loss: 1.1459e-06 - accuracy: 1.0000\n",
      "Epoch 84/150\n",
      "101/101 [==============================] - 0s 697us/step - loss: 1.0829e-06 - accuracy: 1.0000\n",
      "Epoch 85/150\n",
      "101/101 [==============================] - 0s 712us/step - loss: 1.0232e-06 - accuracy: 1.0000\n",
      "Epoch 86/150\n",
      "101/101 [==============================] - 0s 696us/step - loss: 9.6653e-07 - accuracy: 1.0000\n",
      "Epoch 87/150\n",
      "101/101 [==============================] - 0s 680us/step - loss: 9.1346e-07 - accuracy: 1.0000\n",
      "Epoch 88/150\n",
      "101/101 [==============================] - 0s 735us/step - loss: 8.6332e-07 - accuracy: 1.0000\n",
      "Epoch 89/150\n",
      "101/101 [==============================] - 0s 706us/step - loss: 8.1620e-07 - accuracy: 1.0000\n",
      "Epoch 90/150\n",
      "101/101 [==============================] - 0s 707us/step - loss: 7.7158e-07 - accuracy: 1.0000\n",
      "Epoch 91/150\n",
      "101/101 [==============================] - 0s 702us/step - loss: 7.2945e-07 - accuracy: 1.0000\n",
      "Epoch 92/150\n",
      "101/101 [==============================] - 0s 706us/step - loss: 6.8969e-07 - accuracy: 1.0000\n",
      "Epoch 93/150\n",
      "101/101 [==============================] - 0s 797us/step - loss: 6.5215e-07 - accuracy: 1.0000\n",
      "Epoch 94/150\n",
      "101/101 [==============================] - 0s 698us/step - loss: 6.1669e-07 - accuracy: 1.0000\n",
      "Epoch 95/150\n",
      "101/101 [==============================] - 0s 689us/step - loss: 5.8316e-07 - accuracy: 1.0000\n",
      "Epoch 96/150\n",
      "101/101 [==============================] - 0s 701us/step - loss: 5.5154e-07 - accuracy: 1.0000\n",
      "Epoch 97/150\n",
      "101/101 [==============================] - 0s 695us/step - loss: 5.2165e-07 - accuracy: 1.0000\n",
      "Epoch 98/150\n",
      "101/101 [==============================] - 0s 1ms/step - loss: 4.9350e-07 - accuracy: 1.0000\n",
      "Epoch 99/150\n",
      "101/101 [==============================] - 0s 704us/step - loss: 4.6692e-07 - accuracy: 1.0000\n",
      "Epoch 100/150\n",
      "101/101 [==============================] - 0s 733us/step - loss: 4.4182e-07 - accuracy: 1.0000\n",
      "Epoch 101/150\n",
      "101/101 [==============================] - 0s 711us/step - loss: 4.1790e-07 - accuracy: 1.0000\n",
      "Epoch 102/150\n",
      "101/101 [==============================] - 0s 688us/step - loss: 3.9543e-07 - accuracy: 1.0000\n",
      "Epoch 103/150\n",
      "101/101 [==============================] - 0s 672us/step - loss: 3.7423e-07 - accuracy: 1.0000\n",
      "Epoch 104/150\n",
      "101/101 [==============================] - 0s 694us/step - loss: 3.5425e-07 - accuracy: 1.0000\n",
      "Epoch 105/150\n",
      "101/101 [==============================] - 0s 689us/step - loss: 3.3525e-07 - accuracy: 1.0000\n",
      "Epoch 106/150\n",
      "101/101 [==============================] - 0s 695us/step - loss: 3.1714e-07 - accuracy: 1.0000\n",
      "Epoch 107/150\n",
      "101/101 [==============================] - 0s 691us/step - loss: 3.0018e-07 - accuracy: 1.0000\n",
      "Epoch 108/150\n",
      "101/101 [==============================] - 0s 692us/step - loss: 2.8413e-07 - accuracy: 1.0000\n",
      "Epoch 109/150\n",
      "101/101 [==============================] - 0s 676us/step - loss: 2.6896e-07 - accuracy: 1.0000\n",
      "Epoch 110/150\n",
      "101/101 [==============================] - 0s 677us/step - loss: 2.5460e-07 - accuracy: 1.0000\n",
      "Epoch 111/150\n",
      "101/101 [==============================] - 0s 689us/step - loss: 2.4104e-07 - accuracy: 1.0000\n",
      "Epoch 112/150\n",
      "101/101 [==============================] - 0s 679us/step - loss: 2.2830e-07 - accuracy: 1.0000\n",
      "Epoch 113/150\n",
      "101/101 [==============================] - 0s 694us/step - loss: 2.1605e-07 - accuracy: 1.0000\n",
      "Epoch 114/150\n",
      "101/101 [==============================] - 0s 690us/step - loss: 2.0456e-07 - accuracy: 1.0000\n",
      "Epoch 115/150\n",
      "101/101 [==============================] - 0s 724us/step - loss: 1.9383e-07 - accuracy: 1.0000\n",
      "Epoch 116/150\n",
      "101/101 [==============================] - 0s 693us/step - loss: 1.8345e-07 - accuracy: 1.0000\n",
      "Epoch 117/150\n",
      "101/101 [==============================] - 0s 687us/step - loss: 1.7374e-07 - accuracy: 1.0000\n",
      "Epoch 118/150\n",
      "101/101 [==============================] - 0s 685us/step - loss: 1.6452e-07 - accuracy: 1.0000\n",
      "Epoch 119/150\n",
      "101/101 [==============================] - 0s 682us/step - loss: 1.5584e-07 - accuracy: 1.0000\n",
      "Epoch 120/150\n",
      "101/101 [==============================] - 0s 693us/step - loss: 1.4760e-07 - accuracy: 1.0000\n",
      "Epoch 121/150\n",
      "101/101 [==============================] - 0s 700us/step - loss: 1.3983e-07 - accuracy: 1.0000\n",
      "Epoch 122/150\n",
      "101/101 [==============================] - 0s 685us/step - loss: 1.3241e-07 - accuracy: 1.0000\n",
      "Epoch 123/150\n",
      "101/101 [==============================] - 0s 689us/step - loss: 1.2546e-07 - accuracy: 1.0000\n",
      "Epoch 124/150\n",
      "101/101 [==============================] - 0s 680us/step - loss: 1.1886e-07 - accuracy: 1.0000\n",
      "Epoch 125/150\n",
      "101/101 [==============================] - 0s 689us/step - loss: 1.1261e-07 - accuracy: 1.0000\n",
      "Epoch 126/150\n",
      "101/101 [==============================] - 0s 690us/step - loss: 1.0669e-07 - accuracy: 1.0000\n",
      "Epoch 127/150\n",
      "101/101 [==============================] - 0s 678us/step - loss: 1.0111e-07 - accuracy: 1.0000\n",
      "Epoch 128/150\n",
      "101/101 [==============================] - 0s 685us/step - loss: 9.5814e-08 - accuracy: 1.0000\n",
      "Epoch 129/150\n",
      "101/101 [==============================] - 0s 671us/step - loss: 9.0785e-08 - accuracy: 1.0000\n",
      "Epoch 130/150\n",
      "101/101 [==============================] - 0s 692us/step - loss: 8.6044e-08 - accuracy: 1.0000\n",
      "Epoch 131/150\n",
      "101/101 [==============================] - 0s 708us/step - loss: 8.1559e-08 - accuracy: 1.0000\n",
      "Epoch 132/150\n",
      "101/101 [==============================] - 0s 695us/step - loss: 7.7299e-08 - accuracy: 1.0000\n",
      "Epoch 133/150\n",
      "101/101 [==============================] - 0s 684us/step - loss: 7.3303e-08 - accuracy: 1.0000\n",
      "Epoch 134/150\n",
      "101/101 [==============================] - 0s 678us/step - loss: 6.9482e-08 - accuracy: 1.0000\n",
      "Epoch 135/150\n",
      "101/101 [==============================] - 0s 691us/step - loss: 6.5870e-08 - accuracy: 1.0000\n",
      "Epoch 136/150\n",
      "101/101 [==============================] - 0s 692us/step - loss: 6.2448e-08 - accuracy: 1.0000\n",
      "Epoch 137/150\n",
      "101/101 [==============================] - 0s 695us/step - loss: 5.9225e-08 - accuracy: 1.0000\n",
      "Epoch 138/150\n",
      "101/101 [==============================] - 0s 824us/step - loss: 5.6161e-08 - accuracy: 1.0000\n",
      "Epoch 139/150\n",
      "101/101 [==============================] - 0s 690us/step - loss: 5.3263e-08 - accuracy: 1.0000\n",
      "Epoch 140/150\n",
      "101/101 [==============================] - 0s 710us/step - loss: 5.0508e-08 - accuracy: 1.0000\n",
      "Epoch 141/150\n",
      "101/101 [==============================] - 0s 685us/step - loss: 4.7923e-08 - accuracy: 1.0000\n",
      "Epoch 142/150\n",
      "101/101 [==============================] - 0s 691us/step - loss: 4.5451e-08 - accuracy: 1.0000\n",
      "Epoch 143/150\n",
      "101/101 [==============================] - 0s 684us/step - loss: 4.3116e-08 - accuracy: 1.0000\n",
      "Epoch 144/150\n",
      "101/101 [==============================] - 0s 676us/step - loss: 4.0915e-08 - accuracy: 1.0000\n",
      "Epoch 145/150\n",
      "101/101 [==============================] - 0s 693us/step - loss: 3.8834e-08 - accuracy: 1.0000\n",
      "Epoch 146/150\n",
      "101/101 [==============================] - 0s 714us/step - loss: 3.6851e-08 - accuracy: 1.0000\n",
      "Epoch 147/150\n",
      "101/101 [==============================] - 0s 675us/step - loss: 3.4977e-08 - accuracy: 1.0000\n",
      "Epoch 148/150\n",
      "101/101 [==============================] - 0s 689us/step - loss: 3.3212e-08 - accuracy: 1.0000\n",
      "Epoch 149/150\n",
      "101/101 [==============================] - 0s 709us/step - loss: 3.1531e-08 - accuracy: 1.0000\n",
      "Epoch 150/150\n",
      "101/101 [==============================] - 0s 692us/step - loss: 2.9945e-08 - accuracy: 1.0000\n"
     ]
    }
   ],
   "source": [
    "history = model.fit(X, Y, epochs = 150, batch_size=10)"
   ]
  },
  {
   "cell_type": "code",
   "execution_count": 4,
   "metadata": {},
   "outputs": [
    {
     "data": {
      "image/png": "[encoded data removed]",
      "text/plain": [
       "<Figure size 640x480 with 1 Axes>"
      ]
     },
     "metadata": {},
     "output_type": "display_data"
    }
   ],
   "source": [
    "import matplotlib.pyplot as plt\n",
    "\n",
    "iterations = len(history.history['loss'])\n",
    "iteration_number_for_plot = [iteration for iteration in range(1, iterations + 1)]\n",
    "\n",
    "plt.plot(\n",
    "    iteration_number_for_plot,\n",
    "    history.history['loss']\n",
    ")\n",
    "plt.title('Training MSE')\n",
    "plt.ylabel('MSE')\n",
    "plt.xlabel('Iteration')\n",
    "plt.show()"
   ]
  },
  {
   "cell_type": "code",
   "execution_count": 14,
   "metadata": {},
   "outputs": [
    {
     "name": "stdout",
     "output_type": "stream",
     "text": [
      "1/1 [==============================] - 0s 21ms/step\n"
     ]
    },
    {
     "data": {
      "text/plain": [
       "array([[9.99616265e-01, 1.25852964e-07, 8.97314894e-05, 8.23561422e-05,\n",
       "        9.06188943e-05, 1.20930265e-04],\n",
       "       [4.84949987e-06, 9.99588311e-01, 3.40894317e-08, 1.05918829e-04,\n",
       "        2.90981785e-04, 9.93651156e-06],\n",
       "       [1.59727599e-04, 6.13165554e-08, 9.99721467e-01, 3.10900396e-05,\n",
       "        2.59397893e-05, 6.18251506e-05],\n",
       "       [4.71386265e-05, 7.83156138e-05, 1.32813022e-06, 9.99763310e-01,\n",
       "        8.97034340e-07, 1.08998625e-04],\n",
       "       [9.15920464e-05, 1.75025765e-04, 2.32645270e-05, 6.16400648e-05,\n",
       "        9.99529123e-01, 1.19371311e-04],\n",
       "       [5.33244238e-05, 2.36077858e-06, 5.06722608e-05, 1.51012457e-04,\n",
       "        8.11330465e-05, 9.99661446e-01]], dtype=float32)"
      ]
     },
     "execution_count": 14,
     "metadata": {},
     "output_type": "execute_result"
    }
   ],
   "source": [
    "model.predict(np.array([x1, x2, x3, x4, x5, x6])).argmax(axis=1)"
   ]
  },
  {
   "attachments": {},
   "cell_type": "markdown",
   "metadata": {},
   "source": [
    "# Testing for Noisy Inputs"
   ]
  },
  {
   "cell_type": "code",
   "execution_count": 6,
   "metadata": {},
   "outputs": [],
   "source": [
    "def replace_input(array, idx):\n",
    "\n",
    "    current_val = array[idx]\n",
    "    new_val = 1 if current_val == 0 else 0\n",
    "    \n",
    "    new_array = list(array)\n",
    "    new_array[idx] = new_val\n",
    "\n",
    "    return new_array"
   ]
  },
  {
   "cell_type": "code",
   "execution_count": 7,
   "metadata": {},
   "outputs": [
    {
     "name": "stdout",
     "output_type": "stream",
     "text": [
      "The following indices of the original array will be replaced in this order:\n",
      "\n",
      "[23, 1, 22, 7, 5, 0, 14, 13, 17, 15, 2, 19, 18, 6, 11, 12, 10, 3, 16, 20, 21, 4, 9, 8]\n"
     ]
    }
   ],
   "source": [
    "replacement_bits = random.sample(range(0, 24), 24)\n",
    "\n",
    "def replace_and_predict(original_array, expected_prediction, replacement_bits, model):\n",
    "    new_array = list(original_array)\n",
    "\n",
    "    for elements_replaced, idx_to_replace in enumerate(replacement_bits):\n",
    "        new_array = replace_input(new_array, idx_to_replace)\n",
    "        if model.predict(np.array([new_array])).argmax(axis=1)[0] != expected_prediction:\n",
    "            raise ValueError(f\"ANN didn't predict output correctly after {elements_replaced + 1} elements changed\\n\\nOriginal Array:\\n{original_array}\\n\\nNoisy Array:\\n{new_array}\")\n",
    "\n",
    "print(f\"The following indices of the original array will be replaced in this order:\\n\\n{replacement_bits}\")\n"
   ]
  },
  {
   "cell_type": "code",
   "execution_count": 8,
   "metadata": {},
   "outputs": [
    {
     "name": "stdout",
     "output_type": "stream",
     "text": [
      "1/1 [==============================] - 0s 19ms/step\n",
      "1/1 [==============================] - 0s 19ms/step\n",
      "1/1 [==============================] - 0s 20ms/step\n",
      "1/1 [==============================] - 0s 18ms/step\n",
      "1/1 [==============================] - 0s 20ms/step\n",
      "1/1 [==============================] - 0s 20ms/step\n"
     ]
    },
    {
     "ename": "ValueError",
     "evalue": "ANN didn't predict output correctly after 6 elements changed\n\nOriginal Array:\n[0, 0, 1, 0, 0, 0, 0, 1, 0, 0, 1, 1, 1, 1, 1, 0, 0, 1, 0, 0, 0, 0, 1, 0, 0, 1]\n\nNoisy Array:\n[1, 1, 1, 0, 0, 1, 0, 0, 0, 0, 1, 1, 1, 1, 1, 0, 0, 1, 0, 0, 0, 0, 0, 1, 0, 1]",
     "output_type": "error",
     "traceback": [
      "\u001b[0;31m---------------------------------------------------------------------------\u001b[0m",
      "\u001b[0;31mValueError\u001b[0m                                Traceback (most recent call last)",
      "Cell \u001b[0;32mIn[8], line 1\u001b[0m\n\u001b[0;32m----> 1\u001b[0m replace_and_predict(x1, \u001b[39m0\u001b[39;49m, replacement_bits, model)\n",
      "Cell \u001b[0;32mIn[7], line 9\u001b[0m, in \u001b[0;36mreplace_and_predict\u001b[0;34m(original_array, expected_prediction, replacement_bits, model)\u001b[0m\n\u001b[1;32m      7\u001b[0m new_array \u001b[39m=\u001b[39m replace_input(new_array, idx_to_replace)\n\u001b[1;32m      8\u001b[0m \u001b[39mif\u001b[39;00m model\u001b[39m.\u001b[39mpredict(np\u001b[39m.\u001b[39marray([new_array]))\u001b[39m.\u001b[39margmax(axis\u001b[39m=\u001b[39m\u001b[39m1\u001b[39m)[\u001b[39m0\u001b[39m] \u001b[39m!=\u001b[39m expected_prediction:\n\u001b[0;32m----> 9\u001b[0m     \u001b[39mraise\u001b[39;00m \u001b[39mValueError\u001b[39;00m(\u001b[39mf\u001b[39m\u001b[39m\"\u001b[39m\u001b[39mANN didn\u001b[39m\u001b[39m'\u001b[39m\u001b[39mt predict output correctly after \u001b[39m\u001b[39m{\u001b[39;00melements_replaced\u001b[39m \u001b[39m\u001b[39m+\u001b[39m\u001b[39m \u001b[39m\u001b[39m1\u001b[39m\u001b[39m}\u001b[39;00m\u001b[39m elements changed\u001b[39m\u001b[39m\\n\u001b[39;00m\u001b[39m\\n\u001b[39;00m\u001b[39mOriginal Array:\u001b[39m\u001b[39m\\n\u001b[39;00m\u001b[39m{\u001b[39;00moriginal_array\u001b[39m}\u001b[39;00m\u001b[39m\\n\u001b[39;00m\u001b[39m\\n\u001b[39;00m\u001b[39mNoisy Array:\u001b[39m\u001b[39m\\n\u001b[39;00m\u001b[39m{\u001b[39;00mnew_array\u001b[39m}\u001b[39;00m\u001b[39m\"\u001b[39m)\n",
      "\u001b[0;31mValueError\u001b[0m: ANN didn't predict output correctly after 6 elements changed\n\nOriginal Array:\n[0, 0, 1, 0, 0, 0, 0, 1, 0, 0, 1, 1, 1, 1, 1, 0, 0, 1, 0, 0, 0, 0, 1, 0, 0, 1]\n\nNoisy Array:\n[1, 1, 1, 0, 0, 1, 0, 0, 0, 0, 1, 1, 1, 1, 1, 0, 0, 1, 0, 0, 0, 0, 0, 1, 0, 1]"
     ]
    }
   ],
   "source": [
    "replace_and_predict(x1, 0, replacement_bits, model)"
   ]
  },
  {
   "cell_type": "code",
   "execution_count": 9,
   "metadata": {},
   "outputs": [
    {
     "name": "stdout",
     "output_type": "stream",
     "text": [
      "1/1 [==============================] - 0s 20ms/step\n",
      "1/1 [==============================] - 0s 20ms/step\n",
      "1/1 [==============================] - 0s 19ms/step\n",
      "1/1 [==============================] - 0s 20ms/step\n",
      "1/1 [==============================] - 0s 19ms/step\n",
      "1/1 [==============================] - 0s 21ms/step\n",
      "1/1 [==============================] - 0s 19ms/step\n",
      "1/1 [==============================] - 0s 18ms/step\n",
      "1/1 [==============================] - 0s 19ms/step\n"
     ]
    },
    {
     "ename": "ValueError",
     "evalue": "ANN didn't predict output correctly after 9 elements changed\n\nOriginal Array:\n[0, 1, 1, 1, 0, 1, 0, 0, 0, 1, 1, 0, 0, 0, 1, 1, 0, 0, 0, 1, 0, 1, 1, 1, 0, 1]\n\nNoisy Array:\n[1, 0, 1, 1, 0, 0, 0, 1, 0, 1, 1, 0, 0, 1, 0, 1, 0, 1, 0, 1, 0, 1, 0, 0, 0, 1]",
     "output_type": "error",
     "traceback": [
      "\u001b[0;31m---------------------------------------------------------------------------\u001b[0m",
      "\u001b[0;31mValueError\u001b[0m                                Traceback (most recent call last)",
      "Cell \u001b[0;32mIn[9], line 1\u001b[0m\n\u001b[0;32m----> 1\u001b[0m replace_and_predict(x2, \u001b[39m1\u001b[39;49m, replacement_bits, model)\n",
      "Cell \u001b[0;32mIn[7], line 9\u001b[0m, in \u001b[0;36mreplace_and_predict\u001b[0;34m(original_array, expected_prediction, replacement_bits, model)\u001b[0m\n\u001b[1;32m      7\u001b[0m new_array \u001b[39m=\u001b[39m replace_input(new_array, idx_to_replace)\n\u001b[1;32m      8\u001b[0m \u001b[39mif\u001b[39;00m model\u001b[39m.\u001b[39mpredict(np\u001b[39m.\u001b[39marray([new_array]))\u001b[39m.\u001b[39margmax(axis\u001b[39m=\u001b[39m\u001b[39m1\u001b[39m)[\u001b[39m0\u001b[39m] \u001b[39m!=\u001b[39m expected_prediction:\n\u001b[0;32m----> 9\u001b[0m     \u001b[39mraise\u001b[39;00m \u001b[39mValueError\u001b[39;00m(\u001b[39mf\u001b[39m\u001b[39m\"\u001b[39m\u001b[39mANN didn\u001b[39m\u001b[39m'\u001b[39m\u001b[39mt predict output correctly after \u001b[39m\u001b[39m{\u001b[39;00melements_replaced\u001b[39m \u001b[39m\u001b[39m+\u001b[39m\u001b[39m \u001b[39m\u001b[39m1\u001b[39m\u001b[39m}\u001b[39;00m\u001b[39m elements changed\u001b[39m\u001b[39m\\n\u001b[39;00m\u001b[39m\\n\u001b[39;00m\u001b[39mOriginal Array:\u001b[39m\u001b[39m\\n\u001b[39;00m\u001b[39m{\u001b[39;00moriginal_array\u001b[39m}\u001b[39;00m\u001b[39m\\n\u001b[39;00m\u001b[39m\\n\u001b[39;00m\u001b[39mNoisy Array:\u001b[39m\u001b[39m\\n\u001b[39;00m\u001b[39m{\u001b[39;00mnew_array\u001b[39m}\u001b[39;00m\u001b[39m\"\u001b[39m)\n",
      "\u001b[0;31mValueError\u001b[0m: ANN didn't predict output correctly after 9 elements changed\n\nOriginal Array:\n[0, 1, 1, 1, 0, 1, 0, 0, 0, 1, 1, 0, 0, 0, 1, 1, 0, 0, 0, 1, 0, 1, 1, 1, 0, 1]\n\nNoisy Array:\n[1, 0, 1, 1, 0, 0, 0, 1, 0, 1, 1, 0, 0, 1, 0, 1, 0, 1, 0, 1, 0, 1, 0, 0, 0, 1]"
     ]
    }
   ],
   "source": [
    "replace_and_predict(x2, 1, replacement_bits, model)"
   ]
  },
  {
   "cell_type": "code",
   "execution_count": 10,
   "metadata": {},
   "outputs": [
    {
     "name": "stdout",
     "output_type": "stream",
     "text": [
      "1/1 [==============================] - 0s 20ms/step\n",
      "1/1 [==============================] - 0s 18ms/step\n",
      "1/1 [==============================] - 0s 19ms/step\n",
      "1/1 [==============================] - 0s 18ms/step\n",
      "1/1 [==============================] - 0s 20ms/step\n",
      "1/1 [==============================] - 0s 18ms/step\n",
      "1/1 [==============================] - 0s 18ms/step\n"
     ]
    },
    {
     "ename": "ValueError",
     "evalue": "ANN didn't predict output correctly after 7 elements changed\n\nOriginal Array:\n[0, 0, 0, 1, 1, 0, 0, 1, 0, 0, 1, 1, 0, 0, 0, 0, 0, 1, 0, 0, 0, 0, 0, 1, 1, 1]\n\nNoisy Array:\n[1, 1, 0, 1, 1, 1, 0, 0, 0, 0, 1, 1, 0, 0, 1, 0, 0, 1, 0, 0, 0, 0, 1, 0, 1, 1]",
     "output_type": "error",
     "traceback": [
      "\u001b[0;31m---------------------------------------------------------------------------\u001b[0m",
      "\u001b[0;31mValueError\u001b[0m                                Traceback (most recent call last)",
      "Cell \u001b[0;32mIn[10], line 1\u001b[0m\n\u001b[0;32m----> 1\u001b[0m replace_and_predict(x3, \u001b[39m2\u001b[39;49m, replacement_bits, model)\n",
      "Cell \u001b[0;32mIn[7], line 9\u001b[0m, in \u001b[0;36mreplace_and_predict\u001b[0;34m(original_array, expected_prediction, replacement_bits, model)\u001b[0m\n\u001b[1;32m      7\u001b[0m new_array \u001b[39m=\u001b[39m replace_input(new_array, idx_to_replace)\n\u001b[1;32m      8\u001b[0m \u001b[39mif\u001b[39;00m model\u001b[39m.\u001b[39mpredict(np\u001b[39m.\u001b[39marray([new_array]))\u001b[39m.\u001b[39margmax(axis\u001b[39m=\u001b[39m\u001b[39m1\u001b[39m)[\u001b[39m0\u001b[39m] \u001b[39m!=\u001b[39m expected_prediction:\n\u001b[0;32m----> 9\u001b[0m     \u001b[39mraise\u001b[39;00m \u001b[39mValueError\u001b[39;00m(\u001b[39mf\u001b[39m\u001b[39m\"\u001b[39m\u001b[39mANN didn\u001b[39m\u001b[39m'\u001b[39m\u001b[39mt predict output correctly after \u001b[39m\u001b[39m{\u001b[39;00melements_replaced\u001b[39m \u001b[39m\u001b[39m+\u001b[39m\u001b[39m \u001b[39m\u001b[39m1\u001b[39m\u001b[39m}\u001b[39;00m\u001b[39m elements changed\u001b[39m\u001b[39m\\n\u001b[39;00m\u001b[39m\\n\u001b[39;00m\u001b[39mOriginal Array:\u001b[39m\u001b[39m\\n\u001b[39;00m\u001b[39m{\u001b[39;00moriginal_array\u001b[39m}\u001b[39;00m\u001b[39m\\n\u001b[39;00m\u001b[39m\\n\u001b[39;00m\u001b[39mNoisy Array:\u001b[39m\u001b[39m\\n\u001b[39;00m\u001b[39m{\u001b[39;00mnew_array\u001b[39m}\u001b[39;00m\u001b[39m\"\u001b[39m)\n",
      "\u001b[0;31mValueError\u001b[0m: ANN didn't predict output correctly after 7 elements changed\n\nOriginal Array:\n[0, 0, 0, 1, 1, 0, 0, 1, 0, 0, 1, 1, 0, 0, 0, 0, 0, 1, 0, 0, 0, 0, 0, 1, 1, 1]\n\nNoisy Array:\n[1, 1, 0, 1, 1, 1, 0, 0, 0, 0, 1, 1, 0, 0, 1, 0, 0, 1, 0, 0, 0, 0, 1, 0, 1, 1]"
     ]
    }
   ],
   "source": [
    "replace_and_predict(x3, 2, replacement_bits, model)"
   ]
  },
  {
   "cell_type": "code",
   "execution_count": 11,
   "metadata": {},
   "outputs": [
    {
     "name": "stdout",
     "output_type": "stream",
     "text": [
      "1/1 [==============================] - 0s 21ms/step\n",
      "1/1 [==============================] - 0s 23ms/step\n",
      "1/1 [==============================] - 0s 21ms/step\n",
      "1/1 [==============================] - 0s 18ms/step\n",
      "1/1 [==============================] - 0s 18ms/step\n",
      "1/1 [==============================] - 0s 19ms/step\n",
      "1/1 [==============================] - 0s 19ms/step\n",
      "1/1 [==============================] - 0s 19ms/step\n",
      "1/1 [==============================] - 0s 21ms/step\n"
     ]
    },
    {
     "ename": "ValueError",
     "evalue": "ANN didn't predict output correctly after 9 elements changed\n\nOriginal Array:\n[1, 1, 1, 1, 1, 1, 0, 0, 0, 0, 1, 1, 1, 1, 1, 0, 0, 0, 0, 1, 1, 1, 1, 1, 1, 1]\n\nNoisy Array:\n[0, 0, 1, 1, 1, 0, 0, 1, 0, 0, 1, 1, 1, 0, 0, 0, 0, 1, 0, 1, 1, 1, 0, 0, 1, 1]",
     "output_type": "error",
     "traceback": [
      "\u001b[0;31m---------------------------------------------------------------------------\u001b[0m",
      "\u001b[0;31mValueError\u001b[0m                                Traceback (most recent call last)",
      "Cell \u001b[0;32mIn[11], line 1\u001b[0m\n\u001b[0;32m----> 1\u001b[0m replace_and_predict(x4, \u001b[39m3\u001b[39;49m, replacement_bits, model)\n",
      "Cell \u001b[0;32mIn[7], line 9\u001b[0m, in \u001b[0;36mreplace_and_predict\u001b[0;34m(original_array, expected_prediction, replacement_bits, model)\u001b[0m\n\u001b[1;32m      7\u001b[0m new_array \u001b[39m=\u001b[39m replace_input(new_array, idx_to_replace)\n\u001b[1;32m      8\u001b[0m \u001b[39mif\u001b[39;00m model\u001b[39m.\u001b[39mpredict(np\u001b[39m.\u001b[39marray([new_array]))\u001b[39m.\u001b[39margmax(axis\u001b[39m=\u001b[39m\u001b[39m1\u001b[39m)[\u001b[39m0\u001b[39m] \u001b[39m!=\u001b[39m expected_prediction:\n\u001b[0;32m----> 9\u001b[0m     \u001b[39mraise\u001b[39;00m \u001b[39mValueError\u001b[39;00m(\u001b[39mf\u001b[39m\u001b[39m\"\u001b[39m\u001b[39mANN didn\u001b[39m\u001b[39m'\u001b[39m\u001b[39mt predict output correctly after \u001b[39m\u001b[39m{\u001b[39;00melements_replaced\u001b[39m \u001b[39m\u001b[39m+\u001b[39m\u001b[39m \u001b[39m\u001b[39m1\u001b[39m\u001b[39m}\u001b[39;00m\u001b[39m elements changed\u001b[39m\u001b[39m\\n\u001b[39;00m\u001b[39m\\n\u001b[39;00m\u001b[39mOriginal Array:\u001b[39m\u001b[39m\\n\u001b[39;00m\u001b[39m{\u001b[39;00moriginal_array\u001b[39m}\u001b[39;00m\u001b[39m\\n\u001b[39;00m\u001b[39m\\n\u001b[39;00m\u001b[39mNoisy Array:\u001b[39m\u001b[39m\\n\u001b[39;00m\u001b[39m{\u001b[39;00mnew_array\u001b[39m}\u001b[39;00m\u001b[39m\"\u001b[39m)\n",
      "\u001b[0;31mValueError\u001b[0m: ANN didn't predict output correctly after 9 elements changed\n\nOriginal Array:\n[1, 1, 1, 1, 1, 1, 0, 0, 0, 0, 1, 1, 1, 1, 1, 0, 0, 0, 0, 1, 1, 1, 1, 1, 1, 1]\n\nNoisy Array:\n[0, 0, 1, 1, 1, 0, 0, 1, 0, 0, 1, 1, 1, 0, 0, 0, 0, 1, 0, 1, 1, 1, 0, 0, 1, 1]"
     ]
    }
   ],
   "source": [
    "replace_and_predict(x4, 3, replacement_bits, model)"
   ]
  },
  {
   "cell_type": "code",
   "execution_count": 12,
   "metadata": {},
   "outputs": [
    {
     "name": "stdout",
     "output_type": "stream",
     "text": [
      "1/1 [==============================] - 0s 19ms/step\n",
      "1/1 [==============================] - 0s 20ms/step\n",
      "1/1 [==============================] - 0s 20ms/step\n",
      "1/1 [==============================] - 0s 19ms/step\n",
      "1/1 [==============================] - 0s 18ms/step\n",
      "1/1 [==============================] - 0s 19ms/step\n",
      "1/1 [==============================] - 0s 19ms/step\n",
      "1/1 [==============================] - 0s 19ms/step\n",
      "1/1 [==============================] - 0s 20ms/step\n"
     ]
    },
    {
     "ename": "ValueError",
     "evalue": "ANN didn't predict output correctly after 9 elements changed\n\nOriginal Array:\n[0, 1, 1, 1, 0, 1, 0, 1, 0, 1, 1, 0, 1, 0, 1, 1, 0, 1, 0, 1, 0, 1, 1, 1, 0, 1]\n\nNoisy Array:\n[1, 0, 1, 1, 0, 0, 0, 0, 0, 1, 1, 0, 1, 1, 0, 1, 0, 0, 0, 1, 0, 1, 0, 0, 0, 1]",
     "output_type": "error",
     "traceback": [
      "\u001b[0;31m---------------------------------------------------------------------------\u001b[0m",
      "\u001b[0;31mValueError\u001b[0m                                Traceback (most recent call last)",
      "Cell \u001b[0;32mIn[12], line 1\u001b[0m\n\u001b[0;32m----> 1\u001b[0m replace_and_predict(x5, \u001b[39m4\u001b[39;49m, replacement_bits, model)\n",
      "Cell \u001b[0;32mIn[7], line 9\u001b[0m, in \u001b[0;36mreplace_and_predict\u001b[0;34m(original_array, expected_prediction, replacement_bits, model)\u001b[0m\n\u001b[1;32m      7\u001b[0m new_array \u001b[39m=\u001b[39m replace_input(new_array, idx_to_replace)\n\u001b[1;32m      8\u001b[0m \u001b[39mif\u001b[39;00m model\u001b[39m.\u001b[39mpredict(np\u001b[39m.\u001b[39marray([new_array]))\u001b[39m.\u001b[39margmax(axis\u001b[39m=\u001b[39m\u001b[39m1\u001b[39m)[\u001b[39m0\u001b[39m] \u001b[39m!=\u001b[39m expected_prediction:\n\u001b[0;32m----> 9\u001b[0m     \u001b[39mraise\u001b[39;00m \u001b[39mValueError\u001b[39;00m(\u001b[39mf\u001b[39m\u001b[39m\"\u001b[39m\u001b[39mANN didn\u001b[39m\u001b[39m'\u001b[39m\u001b[39mt predict output correctly after \u001b[39m\u001b[39m{\u001b[39;00melements_replaced\u001b[39m \u001b[39m\u001b[39m+\u001b[39m\u001b[39m \u001b[39m\u001b[39m1\u001b[39m\u001b[39m}\u001b[39;00m\u001b[39m elements changed\u001b[39m\u001b[39m\\n\u001b[39;00m\u001b[39m\\n\u001b[39;00m\u001b[39mOriginal Array:\u001b[39m\u001b[39m\\n\u001b[39;00m\u001b[39m{\u001b[39;00moriginal_array\u001b[39m}\u001b[39;00m\u001b[39m\\n\u001b[39;00m\u001b[39m\\n\u001b[39;00m\u001b[39mNoisy Array:\u001b[39m\u001b[39m\\n\u001b[39;00m\u001b[39m{\u001b[39;00mnew_array\u001b[39m}\u001b[39;00m\u001b[39m\"\u001b[39m)\n",
      "\u001b[0;31mValueError\u001b[0m: ANN didn't predict output correctly after 9 elements changed\n\nOriginal Array:\n[0, 1, 1, 1, 0, 1, 0, 1, 0, 1, 1, 0, 1, 0, 1, 1, 0, 1, 0, 1, 0, 1, 1, 1, 0, 1]\n\nNoisy Array:\n[1, 0, 1, 1, 0, 0, 0, 0, 0, 1, 1, 0, 1, 1, 0, 1, 0, 0, 0, 1, 0, 1, 0, 0, 0, 1]"
     ]
    }
   ],
   "source": [
    "replace_and_predict(x5, 4, replacement_bits, model)"
   ]
  },
  {
   "cell_type": "code",
   "execution_count": 13,
   "metadata": {},
   "outputs": [
    {
     "name": "stdout",
     "output_type": "stream",
     "text": [
      "1/1 [==============================] - 0s 17ms/step\n",
      "1/1 [==============================] - 0s 18ms/step\n",
      "1/1 [==============================] - 0s 19ms/step\n",
      "1/1 [==============================] - 0s 17ms/step\n",
      "1/1 [==============================] - 0s 17ms/step\n",
      "1/1 [==============================] - 0s 17ms/step\n",
      "1/1 [==============================] - 0s 17ms/step\n",
      "1/1 [==============================] - 0s 18ms/step\n",
      "1/1 [==============================] - 0s 18ms/step\n"
     ]
    },
    {
     "ename": "ValueError",
     "evalue": "ANN didn't predict output correctly after 9 elements changed\n\nOriginal Array:\n[1, 1, 0, 0, 0, 0, 0, 1, 0, 0, 0, 0, 0, 1, 1, 0, 0, 1, 0, 0, 1, 1, 0, 0, 0, 1]\n\nNoisy Array:\n[0, 0, 0, 0, 0, 1, 0, 0, 0, 0, 0, 0, 0, 0, 0, 0, 0, 0, 0, 0, 1, 1, 1, 1, 0, 1]",
     "output_type": "error",
     "traceback": [
      "\u001b[0;31m---------------------------------------------------------------------------\u001b[0m",
      "\u001b[0;31mValueError\u001b[0m                                Traceback (most recent call last)",
      "Cell \u001b[0;32mIn[13], line 1\u001b[0m\n\u001b[0;32m----> 1\u001b[0m replace_and_predict(x6, \u001b[39m5\u001b[39;49m, replacement_bits, model)\n",
      "Cell \u001b[0;32mIn[7], line 9\u001b[0m, in \u001b[0;36mreplace_and_predict\u001b[0;34m(original_array, expected_prediction, replacement_bits, model)\u001b[0m\n\u001b[1;32m      7\u001b[0m new_array \u001b[39m=\u001b[39m replace_input(new_array, idx_to_replace)\n\u001b[1;32m      8\u001b[0m \u001b[39mif\u001b[39;00m model\u001b[39m.\u001b[39mpredict(np\u001b[39m.\u001b[39marray([new_array]))\u001b[39m.\u001b[39margmax(axis\u001b[39m=\u001b[39m\u001b[39m1\u001b[39m)[\u001b[39m0\u001b[39m] \u001b[39m!=\u001b[39m expected_prediction:\n\u001b[0;32m----> 9\u001b[0m     \u001b[39mraise\u001b[39;00m \u001b[39mValueError\u001b[39;00m(\u001b[39mf\u001b[39m\u001b[39m\"\u001b[39m\u001b[39mANN didn\u001b[39m\u001b[39m'\u001b[39m\u001b[39mt predict output correctly after \u001b[39m\u001b[39m{\u001b[39;00melements_replaced\u001b[39m \u001b[39m\u001b[39m+\u001b[39m\u001b[39m \u001b[39m\u001b[39m1\u001b[39m\u001b[39m}\u001b[39;00m\u001b[39m elements changed\u001b[39m\u001b[39m\\n\u001b[39;00m\u001b[39m\\n\u001b[39;00m\u001b[39mOriginal Array:\u001b[39m\u001b[39m\\n\u001b[39;00m\u001b[39m{\u001b[39;00moriginal_array\u001b[39m}\u001b[39;00m\u001b[39m\\n\u001b[39;00m\u001b[39m\\n\u001b[39;00m\u001b[39mNoisy Array:\u001b[39m\u001b[39m\\n\u001b[39;00m\u001b[39m{\u001b[39;00mnew_array\u001b[39m}\u001b[39;00m\u001b[39m\"\u001b[39m)\n",
      "\u001b[0;31mValueError\u001b[0m: ANN didn't predict output correctly after 9 elements changed\n\nOriginal Array:\n[1, 1, 0, 0, 0, 0, 0, 1, 0, 0, 0, 0, 0, 1, 1, 0, 0, 1, 0, 0, 1, 1, 0, 0, 0, 1]\n\nNoisy Array:\n[0, 0, 0, 0, 0, 1, 0, 0, 0, 0, 0, 0, 0, 0, 0, 0, 0, 0, 0, 0, 1, 1, 1, 1, 0, 1]"
     ]
    }
   ],
   "source": [
    "replace_and_predict(x6, 5, replacement_bits, model)"
   ]
  }
 ],
 "metadata": {
  "kernelspec": {
   "display_name": "eeng415",
   "language": "python",
   "name": "python3"
  },
  "language_info": {
   "codemirror_mode": {
    "name": "ipython",
    "version": 3
   },
   "file_extension": ".py",
   "mimetype": "text/x-python",
   "name": "python",
   "nbconvert_exporter": "python",
   "pygments_lexer": "ipython3",
   "version": "3.8.16"
  },
  "orig_nbformat": 4
 },
 "nbformat": 4,
 "nbformat_minor": 2
}
