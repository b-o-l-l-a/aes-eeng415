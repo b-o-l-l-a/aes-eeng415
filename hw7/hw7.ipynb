{
 "cells": [
  {
   "cell_type": "code",
   "execution_count": 3,
   "metadata": {},
   "outputs": [],
   "source": [
    "x1 = [0, 0, 1, 0, 0, 0, 0, 1, 0, 0, 1, 1, 1, 1, 1, 0, 0, 1, 0, 0, 0, 0, 1, 0, 0, 1] # +\n",
    "x2 = [0, 1, 1, 1, 0, 1, 0, 0, 0, 1, 1, 0, 0, 0, 1, 1, 0, 0, 0, 1, 0, 1, 1, 1, 0, 1] # O\n",
    "x3 = [0, 0, 0, 1, 1, 0, 0, 1, 0, 0, 1, 1, 0, 0, 0, 0, 0, 1, 0, 0, 0, 0, 0, 1, 1, 1] # <\n",
    "x4 = [1, 1, 1, 1, 1, 1, 0, 0, 0, 0, 1, 1, 1, 1, 1, 0, 0, 0, 0, 1, 1, 1, 1, 1, 1, 1] # S\n",
    "x5 = [0, 1, 1, 1, 0, 1, 0, 1, 0, 1, 1, 0, 1, 0, 1, 1, 0, 1, 0, 1, 0, 1, 1, 1, 0, 1] # psi\n",
    "x6 = [1, 1, 0, 0, 0, 0, 0, 1, 0, 0, 0, 0, 0, 1, 1, 0, 0, 1, 0, 0, 1, 1, 0, 0, 0, 1] # >"
   ]
  },
  {
   "cell_type": "code",
   "execution_count": 61,
   "metadata": {},
   "outputs": [],
   "source": [
    "from keras.models import Sequential\n",
    "from keras.layers import Dense\n",
    "from tensorflow.keras.optimizers import Adam\n",
    "import numpy as np\n",
    "import random\n",
    "\n",
    "model = Sequential()\n",
    "model.add(Dense(12, input_dim =26, activation = 'relu'))\n",
    "model.add(Dense(6, activation='softmax'))\n",
    "\n",
    "model.compile(loss='mse', optimizer=Adam(learning_rate=0.001), metrics=['accuracy'])\n",
    "\n",
    "# to build training data. \n",
    "# index of ANN_TRUTH_SET_X matches index of one-hot encoded response in ANN_TRUTH_SET_Y\n",
    "ANN_TRUTH_SET_X = [x1, x2, x3, x4, x5, x6]\n",
    "ANN_TRUTH_SET_Y = [\n",
    "    [1, 0, 0, 0, 0, 0],\n",
    "    [0, 1, 0, 0, 0, 0],\n",
    "    [0, 0, 1, 0, 0, 0],\n",
    "    [0, 0, 0, 1, 0, 0],\n",
    "    [0, 0, 0, 0, 1, 0],\n",
    "    [0, 0, 0, 0, 0, 1]\n",
    "]\n",
    "\n",
    "LEN_OF_TRAINING_DATA = 1000\n",
    "\n",
    "X = [x1, x2, x3, x4, x5, x6]\n",
    "Y = [\n",
    "    [1, 0, 0, 0, 0, 0],\n",
    "    [0, 1, 0, 0, 0, 0],\n",
    "    [0, 0, 1, 0, 0, 0],\n",
    "    [0, 0, 0, 1, 0, 0],\n",
    "    [0, 0, 0, 0, 1, 0],\n",
    "    [0, 0, 0, 0, 0, 1]\n",
    "]\n",
    "\n",
    "for i in range(LEN_OF_TRAINING_DATA):\n",
    "    # choose random integer to add that index of ANN_TRUTH_SET to training data\n",
    "    rand_int = random.randint(0, 5) \n",
    "    X.append(ANN_TRUTH_SET_X[rand_int])\n",
    "    Y.append(ANN_TRUTH_SET_Y[rand_int])\n",
    "\n",
    "X = np.array(X)\n",
    "Y = np.array(Y)\n",
    "#model.fit(X, Y, epochs=150, batch_size=10)\n",
    "\n",
    "#scores = model"
   ]
  },
  {
   "cell_type": "code",
   "execution_count": 62,
   "metadata": {},
   "outputs": [
    {
     "name": "stdout",
     "output_type": "stream",
     "text": [
      "Epoch 1/150\n",
      "101/101 [==============================] - 0s 855us/step - loss: 0.1295 - accuracy: 0.1948\n",
      "Epoch 2/150\n",
      "101/101 [==============================] - 0s 738us/step - loss: 0.0986 - accuracy: 0.7286\n",
      "Epoch 3/150\n",
      "101/101 [==============================] - 0s 734us/step - loss: 0.0689 - accuracy: 0.8330\n",
      "Epoch 4/150\n",
      "101/101 [==============================] - 0s 723us/step - loss: 0.0430 - accuracy: 1.0000\n",
      "Epoch 5/150\n",
      "101/101 [==============================] - 0s 708us/step - loss: 0.0241 - accuracy: 1.0000\n",
      "Epoch 6/150\n",
      "101/101 [==============================] - 0s 698us/step - loss: 0.0137 - accuracy: 1.0000\n",
      "Epoch 7/150\n",
      "101/101 [==============================] - 0s 685us/step - loss: 0.0083 - accuracy: 1.0000\n",
      "Epoch 8/150\n",
      "101/101 [==============================] - 0s 713us/step - loss: 0.0053 - accuracy: 1.0000\n",
      "Epoch 9/150\n",
      "101/101 [==============================] - 0s 704us/step - loss: 0.0035 - accuracy: 1.0000\n",
      "Epoch 10/150\n",
      "101/101 [==============================] - 0s 706us/step - loss: 0.0025 - accuracy: 1.0000\n",
      "Epoch 11/150\n",
      "101/101 [==============================] - 0s 699us/step - loss: 0.0019 - accuracy: 1.0000\n",
      "Epoch 12/150\n",
      "101/101 [==============================] - 0s 740us/step - loss: 0.0014 - accuracy: 1.0000\n",
      "Epoch 13/150\n",
      "101/101 [==============================] - 0s 724us/step - loss: 0.0011 - accuracy: 1.0000\n",
      "Epoch 14/150\n",
      "101/101 [==============================] - 0s 705us/step - loss: 9.0123e-04 - accuracy: 1.0000\n",
      "Epoch 15/150\n",
      "101/101 [==============================] - 0s 713us/step - loss: 7.4120e-04 - accuracy: 1.0000\n",
      "Epoch 16/150\n",
      "101/101 [==============================] - 0s 691us/step - loss: 6.1833e-04 - accuracy: 1.0000\n",
      "Epoch 17/150\n",
      "101/101 [==============================] - 0s 714us/step - loss: 5.2229e-04 - accuracy: 1.0000\n",
      "Epoch 18/150\n",
      "101/101 [==============================] - 0s 765us/step - loss: 4.4660e-04 - accuracy: 1.0000\n",
      "Epoch 19/150\n",
      "101/101 [==============================] - 0s 739us/step - loss: 3.8552e-04 - accuracy: 1.0000\n",
      "Epoch 20/150\n",
      "101/101 [==============================] - 0s 705us/step - loss: 3.3525e-04 - accuracy: 1.0000\n",
      "Epoch 21/150\n",
      "101/101 [==============================] - 0s 721us/step - loss: 2.9365e-04 - accuracy: 1.0000\n",
      "Epoch 22/150\n",
      "101/101 [==============================] - 0s 700us/step - loss: 2.5905e-04 - accuracy: 1.0000\n",
      "Epoch 23/150\n",
      "101/101 [==============================] - 0s 690us/step - loss: 2.2976e-04 - accuracy: 1.0000\n",
      "Epoch 24/150\n",
      "101/101 [==============================] - 0s 699us/step - loss: 2.0486e-04 - accuracy: 1.0000\n",
      "Epoch 25/150\n",
      "101/101 [==============================] - 0s 697us/step - loss: 1.8320e-04 - accuracy: 1.0000\n",
      "Epoch 26/150\n",
      "101/101 [==============================] - 0s 686us/step - loss: 1.6479e-04 - accuracy: 1.0000\n",
      "Epoch 27/150\n",
      "101/101 [==============================] - 0s 725us/step - loss: 1.4848e-04 - accuracy: 1.0000\n",
      "Epoch 28/150\n",
      "101/101 [==============================] - 0s 755us/step - loss: 1.3433e-04 - accuracy: 1.0000\n",
      "Epoch 29/150\n",
      "101/101 [==============================] - 0s 772us/step - loss: 1.2192e-04 - accuracy: 1.0000\n",
      "Epoch 30/150\n",
      "101/101 [==============================] - 0s 779us/step - loss: 1.1118e-04 - accuracy: 1.0000\n",
      "Epoch 31/150\n",
      "101/101 [==============================] - 0s 718us/step - loss: 1.0135e-04 - accuracy: 1.0000\n",
      "Epoch 32/150\n",
      "101/101 [==============================] - 0s 700us/step - loss: 9.2622e-05 - accuracy: 1.0000\n",
      "Epoch 33/150\n",
      "101/101 [==============================] - 0s 676us/step - loss: 8.4891e-05 - accuracy: 1.0000\n",
      "Epoch 34/150\n",
      "101/101 [==============================] - 0s 686us/step - loss: 7.7979e-05 - accuracy: 1.0000\n",
      "Epoch 35/150\n",
      "101/101 [==============================] - 0s 740us/step - loss: 7.1722e-05 - accuracy: 1.0000\n",
      "Epoch 36/150\n",
      "101/101 [==============================] - 0s 771us/step - loss: 6.6069e-05 - accuracy: 1.0000\n",
      "Epoch 37/150\n",
      "101/101 [==============================] - 0s 865us/step - loss: 6.1002e-05 - accuracy: 1.0000\n",
      "Epoch 38/150\n",
      "101/101 [==============================] - 0s 878us/step - loss: 5.6377e-05 - accuracy: 1.0000\n",
      "Epoch 39/150\n",
      "101/101 [==============================] - 0s 768us/step - loss: 5.2133e-05 - accuracy: 1.0000\n",
      "Epoch 40/150\n",
      "101/101 [==============================] - 0s 778us/step - loss: 4.8283e-05 - accuracy: 1.0000\n",
      "Epoch 41/150\n",
      "101/101 [==============================] - 0s 776us/step - loss: 4.4801e-05 - accuracy: 1.0000\n",
      "Epoch 42/150\n",
      "101/101 [==============================] - 0s 766us/step - loss: 4.1590e-05 - accuracy: 1.0000\n",
      "Epoch 43/150\n",
      "101/101 [==============================] - 0s 751us/step - loss: 3.8646e-05 - accuracy: 1.0000\n",
      "Epoch 44/150\n",
      "101/101 [==============================] - 0s 761us/step - loss: 3.5956e-05 - accuracy: 1.0000\n",
      "Epoch 45/150\n",
      "101/101 [==============================] - 0s 764us/step - loss: 3.3486e-05 - accuracy: 1.0000\n",
      "Epoch 46/150\n",
      "101/101 [==============================] - 0s 836us/step - loss: 3.1199e-05 - accuracy: 1.0000\n",
      "Epoch 47/150\n",
      "101/101 [==============================] - 0s 777us/step - loss: 2.9106e-05 - accuracy: 1.0000\n",
      "Epoch 48/150\n",
      "101/101 [==============================] - 0s 759us/step - loss: 2.7160e-05 - accuracy: 1.0000\n",
      "Epoch 49/150\n",
      "101/101 [==============================] - 0s 736us/step - loss: 2.5374e-05 - accuracy: 1.0000\n",
      "Epoch 50/150\n",
      "101/101 [==============================] - 0s 718us/step - loss: 2.3727e-05 - accuracy: 1.0000\n",
      "Epoch 51/150\n",
      "101/101 [==============================] - 0s 702us/step - loss: 2.2188e-05 - accuracy: 1.0000\n",
      "Epoch 52/150\n",
      "101/101 [==============================] - 0s 680us/step - loss: 2.0741e-05 - accuracy: 1.0000\n",
      "Epoch 53/150\n",
      "101/101 [==============================] - 0s 694us/step - loss: 1.9417e-05 - accuracy: 1.0000\n",
      "Epoch 54/150\n",
      "101/101 [==============================] - 0s 687us/step - loss: 1.8198e-05 - accuracy: 1.0000\n",
      "Epoch 55/150\n",
      "101/101 [==============================] - 0s 688us/step - loss: 1.7056e-05 - accuracy: 1.0000\n",
      "Epoch 56/150\n",
      "101/101 [==============================] - 0s 687us/step - loss: 1.5985e-05 - accuracy: 1.0000\n",
      "Epoch 57/150\n",
      "101/101 [==============================] - 0s 685us/step - loss: 1.4988e-05 - accuracy: 1.0000\n",
      "Epoch 58/150\n",
      "101/101 [==============================] - 0s 688us/step - loss: 1.4062e-05 - accuracy: 1.0000\n",
      "Epoch 59/150\n",
      "101/101 [==============================] - 0s 698us/step - loss: 1.3201e-05 - accuracy: 1.0000\n",
      "Epoch 60/150\n",
      "101/101 [==============================] - 0s 682us/step - loss: 1.2397e-05 - accuracy: 1.0000\n",
      "Epoch 61/150\n",
      "101/101 [==============================] - 0s 691us/step - loss: 1.1646e-05 - accuracy: 1.0000\n",
      "Epoch 62/150\n",
      "101/101 [==============================] - 0s 713us/step - loss: 1.0949e-05 - accuracy: 1.0000\n",
      "Epoch 63/150\n",
      "101/101 [==============================] - 0s 706us/step - loss: 1.0291e-05 - accuracy: 1.0000\n",
      "Epoch 64/150\n",
      "101/101 [==============================] - 0s 695us/step - loss: 9.6755e-06 - accuracy: 1.0000\n",
      "Epoch 65/150\n",
      "101/101 [==============================] - 0s 684us/step - loss: 9.0996e-06 - accuracy: 1.0000\n",
      "Epoch 66/150\n",
      "101/101 [==============================] - 0s 684us/step - loss: 8.5645e-06 - accuracy: 1.0000\n",
      "Epoch 67/150\n",
      "101/101 [==============================] - 0s 688us/step - loss: 8.0609e-06 - accuracy: 1.0000\n",
      "Epoch 68/150\n",
      "101/101 [==============================] - 0s 692us/step - loss: 7.5843e-06 - accuracy: 1.0000\n",
      "Epoch 69/150\n",
      "101/101 [==============================] - 0s 690us/step - loss: 7.1420e-06 - accuracy: 1.0000\n",
      "Epoch 70/150\n",
      "101/101 [==============================] - 0s 697us/step - loss: 6.7275e-06 - accuracy: 1.0000\n",
      "Epoch 71/150\n",
      "101/101 [==============================] - 0s 695us/step - loss: 6.3372e-06 - accuracy: 1.0000\n",
      "Epoch 72/150\n",
      "101/101 [==============================] - 0s 692us/step - loss: 5.9736e-06 - accuracy: 1.0000\n",
      "Epoch 73/150\n",
      "101/101 [==============================] - 0s 689us/step - loss: 5.6263e-06 - accuracy: 1.0000\n",
      "Epoch 74/150\n",
      "101/101 [==============================] - 0s 682us/step - loss: 5.3027e-06 - accuracy: 1.0000\n",
      "Epoch 75/150\n",
      "101/101 [==============================] - 0s 701us/step - loss: 4.9984e-06 - accuracy: 1.0000\n",
      "Epoch 76/150\n",
      "101/101 [==============================] - 0s 736us/step - loss: 4.7143e-06 - accuracy: 1.0000\n",
      "Epoch 77/150\n",
      "101/101 [==============================] - 0s 741us/step - loss: 4.4457e-06 - accuracy: 1.0000\n",
      "Epoch 78/150\n",
      "101/101 [==============================] - 0s 760us/step - loss: 4.1933e-06 - accuracy: 1.0000\n",
      "Epoch 79/150\n",
      "101/101 [==============================] - 0s 804us/step - loss: 3.9564e-06 - accuracy: 1.0000\n",
      "Epoch 80/150\n",
      "101/101 [==============================] - 0s 812us/step - loss: 3.7333e-06 - accuracy: 1.0000\n",
      "Epoch 81/150\n",
      "101/101 [==============================] - 0s 772us/step - loss: 3.5215e-06 - accuracy: 1.0000\n",
      "Epoch 82/150\n",
      "101/101 [==============================] - 0s 722us/step - loss: 3.3236e-06 - accuracy: 1.0000\n",
      "Epoch 83/150\n",
      "101/101 [==============================] - 0s 761us/step - loss: 3.1369e-06 - accuracy: 1.0000\n",
      "Epoch 84/150\n",
      "101/101 [==============================] - 0s 711us/step - loss: 2.9611e-06 - accuracy: 1.0000\n",
      "Epoch 85/150\n",
      "101/101 [==============================] - 0s 754us/step - loss: 2.7958e-06 - accuracy: 1.0000\n",
      "Epoch 86/150\n",
      "101/101 [==============================] - 0s 763us/step - loss: 2.6394e-06 - accuracy: 1.0000\n",
      "Epoch 87/150\n",
      "101/101 [==============================] - 0s 693us/step - loss: 2.4932e-06 - accuracy: 1.0000\n",
      "Epoch 88/150\n",
      "101/101 [==============================] - 0s 693us/step - loss: 2.3542e-06 - accuracy: 1.0000\n",
      "Epoch 89/150\n",
      "101/101 [==============================] - 0s 702us/step - loss: 2.2242e-06 - accuracy: 1.0000\n",
      "Epoch 90/150\n",
      "101/101 [==============================] - 0s 691us/step - loss: 2.1011e-06 - accuracy: 1.0000\n",
      "Epoch 91/150\n",
      "101/101 [==============================] - 0s 679us/step - loss: 1.9846e-06 - accuracy: 1.0000\n",
      "Epoch 92/150\n",
      "101/101 [==============================] - 0s 708us/step - loss: 1.8754e-06 - accuracy: 1.0000\n",
      "Epoch 93/150\n",
      "101/101 [==============================] - 0s 690us/step - loss: 1.7722e-06 - accuracy: 1.0000\n",
      "Epoch 94/150\n",
      "101/101 [==============================] - 0s 701us/step - loss: 1.6745e-06 - accuracy: 1.0000\n",
      "Epoch 95/150\n",
      "101/101 [==============================] - 0s 721us/step - loss: 1.5823e-06 - accuracy: 1.0000\n",
      "Epoch 96/150\n",
      "101/101 [==============================] - 0s 694us/step - loss: 1.4955e-06 - accuracy: 1.0000\n",
      "Epoch 97/150\n",
      "101/101 [==============================] - 0s 679us/step - loss: 1.4135e-06 - accuracy: 1.0000\n",
      "Epoch 98/150\n",
      "101/101 [==============================] - 0s 697us/step - loss: 1.3362e-06 - accuracy: 1.0000\n",
      "Epoch 99/150\n",
      "101/101 [==============================] - 0s 700us/step - loss: 1.2633e-06 - accuracy: 1.0000\n",
      "Epoch 100/150\n",
      "101/101 [==============================] - 0s 680us/step - loss: 1.1942e-06 - accuracy: 1.0000\n",
      "Epoch 101/150\n",
      "101/101 [==============================] - 0s 697us/step - loss: 1.1288e-06 - accuracy: 1.0000\n",
      "Epoch 102/150\n",
      "101/101 [==============================] - 0s 697us/step - loss: 1.0674e-06 - accuracy: 1.0000\n",
      "Epoch 103/150\n",
      "101/101 [==============================] - 0s 694us/step - loss: 1.0096e-06 - accuracy: 1.0000\n",
      "Epoch 104/150\n",
      "101/101 [==============================] - 0s 681us/step - loss: 9.5432e-07 - accuracy: 1.0000\n",
      "Epoch 105/150\n",
      "101/101 [==============================] - 0s 686us/step - loss: 9.0275e-07 - accuracy: 1.0000\n",
      "Epoch 106/150\n",
      "101/101 [==============================] - 0s 705us/step - loss: 8.5357e-07 - accuracy: 1.0000\n",
      "Epoch 107/150\n",
      "101/101 [==============================] - 0s 679us/step - loss: 8.0787e-07 - accuracy: 1.0000\n",
      "Epoch 108/150\n",
      "101/101 [==============================] - 0s 696us/step - loss: 7.6376e-07 - accuracy: 1.0000\n",
      "Epoch 109/150\n",
      "101/101 [==============================] - 0s 701us/step - loss: 7.2259e-07 - accuracy: 1.0000\n",
      "Epoch 110/150\n",
      "101/101 [==============================] - 0s 691us/step - loss: 6.8357e-07 - accuracy: 1.0000\n",
      "Epoch 111/150\n",
      "101/101 [==============================] - 0s 695us/step - loss: 6.4650e-07 - accuracy: 1.0000\n",
      "Epoch 112/150\n",
      "101/101 [==============================] - 0s 716us/step - loss: 6.1175e-07 - accuracy: 1.0000\n",
      "Epoch 113/150\n",
      "101/101 [==============================] - 0s 708us/step - loss: 5.7885e-07 - accuracy: 1.0000\n",
      "Epoch 114/150\n",
      "101/101 [==============================] - 0s 685us/step - loss: 5.4756e-07 - accuracy: 1.0000\n",
      "Epoch 115/150\n",
      "101/101 [==============================] - 0s 701us/step - loss: 5.1822e-07 - accuracy: 1.0000\n",
      "Epoch 116/150\n",
      "101/101 [==============================] - 0s 694us/step - loss: 4.9032e-07 - accuracy: 1.0000\n",
      "Epoch 117/150\n",
      "101/101 [==============================] - 0s 693us/step - loss: 4.6399e-07 - accuracy: 1.0000\n",
      "Epoch 118/150\n",
      "101/101 [==============================] - 0s 684us/step - loss: 4.3925e-07 - accuracy: 1.0000\n",
      "Epoch 119/150\n",
      "101/101 [==============================] - 0s 701us/step - loss: 4.1589e-07 - accuracy: 1.0000\n",
      "Epoch 120/150\n",
      "101/101 [==============================] - 0s 749us/step - loss: 3.9338e-07 - accuracy: 1.0000\n",
      "Epoch 121/150\n",
      "101/101 [==============================] - 0s 787us/step - loss: 3.7218e-07 - accuracy: 1.0000\n",
      "Epoch 122/150\n",
      "101/101 [==============================] - 0s 762us/step - loss: 3.5233e-07 - accuracy: 1.0000\n",
      "Epoch 123/150\n",
      "101/101 [==============================] - 0s 772us/step - loss: 3.3335e-07 - accuracy: 1.0000\n",
      "Epoch 124/150\n",
      "101/101 [==============================] - 0s 791us/step - loss: 3.1563e-07 - accuracy: 1.0000\n",
      "Epoch 125/150\n",
      "101/101 [==============================] - 0s 698us/step - loss: 2.9902e-07 - accuracy: 1.0000\n",
      "Epoch 126/150\n",
      "101/101 [==============================] - 0s 668us/step - loss: 2.8294e-07 - accuracy: 1.0000\n",
      "Epoch 127/150\n",
      "101/101 [==============================] - 0s 791us/step - loss: 2.6789e-07 - accuracy: 1.0000\n",
      "Epoch 128/150\n",
      "101/101 [==============================] - 0s 755us/step - loss: 2.5361e-07 - accuracy: 1.0000\n",
      "Epoch 129/150\n",
      "101/101 [==============================] - 0s 690us/step - loss: 2.4009e-07 - accuracy: 1.0000\n",
      "Epoch 130/150\n",
      "101/101 [==============================] - 0s 673us/step - loss: 2.2746e-07 - accuracy: 1.0000\n",
      "Epoch 131/150\n",
      "101/101 [==============================] - 0s 661us/step - loss: 2.1533e-07 - accuracy: 1.0000\n",
      "Epoch 132/150\n",
      "101/101 [==============================] - 0s 688us/step - loss: 2.0388e-07 - accuracy: 1.0000\n",
      "Epoch 133/150\n",
      "101/101 [==============================] - 0s 699us/step - loss: 1.9314e-07 - accuracy: 1.0000\n",
      "Epoch 134/150\n",
      "101/101 [==============================] - 1s 14ms/step - loss: 1.8292e-07 - accuracy: 1.0000\n",
      "Epoch 135/150\n",
      "101/101 [==============================] - 0s 711us/step - loss: 1.7320e-07 - accuracy: 1.0000\n",
      "Epoch 136/150\n",
      "101/101 [==============================] - 0s 684us/step - loss: 1.6405e-07 - accuracy: 1.0000\n",
      "Epoch 137/150\n",
      "101/101 [==============================] - 0s 673us/step - loss: 1.5549e-07 - accuracy: 1.0000\n",
      "Epoch 138/150\n",
      "101/101 [==============================] - 0s 675us/step - loss: 1.4722e-07 - accuracy: 1.0000\n",
      "Epoch 139/150\n",
      "101/101 [==============================] - 0s 669us/step - loss: 1.3947e-07 - accuracy: 1.0000\n",
      "Epoch 140/150\n",
      "101/101 [==============================] - 0s 677us/step - loss: 1.3210e-07 - accuracy: 1.0000\n",
      "Epoch 141/150\n",
      "101/101 [==============================] - 0s 719us/step - loss: 1.2517e-07 - accuracy: 1.0000\n",
      "Epoch 142/150\n",
      "101/101 [==============================] - 0s 676us/step - loss: 1.1859e-07 - accuracy: 1.0000\n",
      "Epoch 143/150\n",
      "101/101 [==============================] - 0s 679us/step - loss: 1.1237e-07 - accuracy: 1.0000\n",
      "Epoch 144/150\n",
      "101/101 [==============================] - 0s 676us/step - loss: 1.0646e-07 - accuracy: 1.0000\n",
      "Epoch 145/150\n",
      "101/101 [==============================] - 0s 678us/step - loss: 1.0095e-07 - accuracy: 1.0000\n",
      "Epoch 146/150\n",
      "101/101 [==============================] - 0s 679us/step - loss: 9.5618e-08 - accuracy: 1.0000\n",
      "Epoch 147/150\n",
      "101/101 [==============================] - 0s 676us/step - loss: 9.0631e-08 - accuracy: 1.0000\n",
      "Epoch 148/150\n",
      "101/101 [==============================] - 0s 683us/step - loss: 8.5896e-08 - accuracy: 1.0000\n",
      "Epoch 149/150\n",
      "101/101 [==============================] - 0s 667us/step - loss: 8.1447e-08 - accuracy: 1.0000\n",
      "Epoch 150/150\n",
      "101/101 [==============================] - 0s 674us/step - loss: 7.7219e-08 - accuracy: 1.0000\n"
     ]
    }
   ],
   "source": [
    "history = model.fit(X, Y, epochs = 150, batch_size=10)"
   ]
  },
  {
   "cell_type": "code",
   "execution_count": 63,
   "metadata": {},
   "outputs": [
    {
     "data": {
      "image/png": "[encoded data removed]",
      "text/plain": [
       "<Figure size 640x480 with 1 Axes>"
      ]
     },
     "metadata": {},
     "output_type": "display_data"
    }
   ],
   "source": [
    "import matplotlib.pyplot as plt\n",
    "\n",
    "iterations = len(history.history['loss'])\n",
    "iteration_number_for_plot = [iteration for iteration in range(1, iterations + 1)]\n",
    "\n",
    "plt.plot(\n",
    "    iteration_number_for_plot,\n",
    "    history.history['loss']\n",
    ")\n",
    "plt.title('Training MSE')\n",
    "plt.ylabel('MSE')\n",
    "plt.xlabel('Iteration')\n",
    "plt.show()"
   ]
  },
  {
   "cell_type": "code",
   "execution_count": 84,
   "metadata": {},
   "outputs": [
    {
     "name": "stdout",
     "output_type": "stream",
     "text": [
      "1/1 [==============================] - 0s 18ms/step\n",
      "[0]\n"
     ]
    }
   ],
   "source": [
    "print(model.predict(np.array([x1])).argmax(axis=1))"
   ]
  },
  {
   "attachments": {},
   "cell_type": "markdown",
   "metadata": {},
   "source": [
    "# Testing for Noisy Inputs"
   ]
  },
  {
   "cell_type": "code",
   "execution_count": 75,
   "metadata": {},
   "outputs": [],
   "source": [
    "def replace_input(array, idx):\n",
    "\n",
    "    current_val = array[idx]\n",
    "    new_val = 1 if current_val == 0 else 0\n",
    "    \n",
    "    new_array = list(array)\n",
    "    new_array[idx] = new_val\n",
    "\n",
    "    return new_array"
   ]
  },
  {
   "cell_type": "code",
   "execution_count": 100,
   "metadata": {},
   "outputs": [
    {
     "name": "stdout",
     "output_type": "stream",
     "text": [
      "The following indices of the original array will be replaced in this order:\n",
      "\n",
      "[4, 10, 1, 11, 16, 23, 18, 3, 14, 17, 9, 21, 6, 19, 12, 20, 5, 2, 0, 13, 8, 7, 15, 22]\n"
     ]
    }
   ],
   "source": [
    "replacement_bits = random.sample(range(0, 24), 24)\n",
    "\n",
    "def replace_and_predict(original_array, expected_prediction, replacement_bits, model):\n",
    "    new_array = list(original_array)\n",
    "\n",
    "    for elements_replaced, idx_to_replace in enumerate(replacement_bits):\n",
    "        new_array = replace_input(new_array, idx_to_replace)\n",
    "        if model.predict(np.array([new_array])).argmax(axis=1)[0] != expected_prediction:\n",
    "            raise ValueError(f\"ANN didn't predict output correctly after {elements_replaced + 1} elements changed\\n\\nOriginal Array:\\n{original_array}\\n\\nNoisy Array:\\n{new_array}\")\n",
    "\n",
    "print(f\"The following indices of the original array will be replaced in this order:\\n\\n{replacement_bits}\")\n"
   ]
  },
  {
   "cell_type": "code",
   "execution_count": 101,
   "metadata": {},
   "outputs": [
    {
     "name": "stdout",
     "output_type": "stream",
     "text": [
      "1/1 [==============================] - 0s 21ms/step\n",
      "1/1 [==============================] - 0s 20ms/step\n",
      "1/1 [==============================] - 0s 19ms/step\n",
      "1/1 [==============================] - 0s 20ms/step\n",
      "1/1 [==============================] - 0s 20ms/step\n",
      "1/1 [==============================] - 0s 20ms/step\n",
      "1/1 [==============================] - 0s 19ms/step\n",
      "1/1 [==============================] - 0s 19ms/step\n",
      "1/1 [==============================] - 0s 19ms/step\n",
      "1/1 [==============================] - 0s 17ms/step\n",
      "1/1 [==============================] - 0s 19ms/step\n",
      "1/1 [==============================] - 0s 19ms/step\n"
     ]
    },
    {
     "ename": "ValueError",
     "evalue": "ANN didn't predict output correctly after 12 elements changed\n\nOriginal Array:\n[0, 0, 1, 0, 0, 0, 0, 1, 0, 0, 1, 1, 1, 1, 1, 0, 0, 1, 0, 0, 0, 0, 1, 0, 0, 1]\n\nNoisy Array:\n[0, 1, 1, 1, 1, 0, 0, 1, 0, 1, 0, 0, 1, 1, 0, 0, 1, 0, 1, 0, 0, 1, 1, 1, 0, 1]",
     "output_type": "error",
     "traceback": [
      "\u001b[0;31m---------------------------------------------------------------------------\u001b[0m",
      "\u001b[0;31mValueError\u001b[0m                                Traceback (most recent call last)",
      "Cell \u001b[0;32mIn[101], line 1\u001b[0m\n\u001b[0;32m----> 1\u001b[0m replace_and_predict(x1, \u001b[39m0\u001b[39;49m, replacement_bits, model)\n",
      "Cell \u001b[0;32mIn[100], line 9\u001b[0m, in \u001b[0;36mreplace_and_predict\u001b[0;34m(original_array, expected_prediction, replacement_bits, model)\u001b[0m\n\u001b[1;32m      7\u001b[0m new_array \u001b[39m=\u001b[39m replace_input(new_array, idx_to_replace)\n\u001b[1;32m      8\u001b[0m \u001b[39mif\u001b[39;00m model\u001b[39m.\u001b[39mpredict(np\u001b[39m.\u001b[39marray([new_array]))\u001b[39m.\u001b[39margmax(axis\u001b[39m=\u001b[39m\u001b[39m1\u001b[39m)[\u001b[39m0\u001b[39m] \u001b[39m!=\u001b[39m expected_prediction:\n\u001b[0;32m----> 9\u001b[0m     \u001b[39mraise\u001b[39;00m \u001b[39mValueError\u001b[39;00m(\u001b[39mf\u001b[39m\u001b[39m\"\u001b[39m\u001b[39mANN didn\u001b[39m\u001b[39m'\u001b[39m\u001b[39mt predict output correctly after \u001b[39m\u001b[39m{\u001b[39;00melements_replaced\u001b[39m \u001b[39m\u001b[39m+\u001b[39m\u001b[39m \u001b[39m\u001b[39m1\u001b[39m\u001b[39m}\u001b[39;00m\u001b[39m elements changed\u001b[39m\u001b[39m\\n\u001b[39;00m\u001b[39m\\n\u001b[39;00m\u001b[39mOriginal Array:\u001b[39m\u001b[39m\\n\u001b[39;00m\u001b[39m{\u001b[39;00moriginal_array\u001b[39m}\u001b[39;00m\u001b[39m\\n\u001b[39;00m\u001b[39m\\n\u001b[39;00m\u001b[39mNoisy Array:\u001b[39m\u001b[39m\\n\u001b[39;00m\u001b[39m{\u001b[39;00mnew_array\u001b[39m}\u001b[39;00m\u001b[39m\"\u001b[39m)\n",
      "\u001b[0;31mValueError\u001b[0m: ANN didn't predict output correctly after 12 elements changed\n\nOriginal Array:\n[0, 0, 1, 0, 0, 0, 0, 1, 0, 0, 1, 1, 1, 1, 1, 0, 0, 1, 0, 0, 0, 0, 1, 0, 0, 1]\n\nNoisy Array:\n[0, 1, 1, 1, 1, 0, 0, 1, 0, 1, 0, 0, 1, 1, 0, 0, 1, 0, 1, 0, 0, 1, 1, 1, 0, 1]"
     ]
    }
   ],
   "source": [
    "replace_and_predict(x1, 0, replacement_bits, model)"
   ]
  },
  {
   "cell_type": "code",
   "execution_count": 102,
   "metadata": {},
   "outputs": [
    {
     "name": "stdout",
     "output_type": "stream",
     "text": [
      "1/1 [==============================] - 0s 19ms/step\n",
      "1/1 [==============================] - 0s 18ms/step\n",
      "1/1 [==============================] - 0s 18ms/step\n",
      "1/1 [==============================] - 0s 18ms/step\n",
      "1/1 [==============================] - 0s 18ms/step\n",
      "1/1 [==============================] - 0s 19ms/step\n",
      "1/1 [==============================] - 0s 19ms/step\n",
      "1/1 [==============================] - 0s 18ms/step\n",
      "1/1 [==============================] - 0s 19ms/step\n",
      "1/1 [==============================] - 0s 18ms/step\n",
      "1/1 [==============================] - 0s 19ms/step\n",
      "1/1 [==============================] - 0s 18ms/step\n"
     ]
    },
    {
     "ename": "ValueError",
     "evalue": "ANN didn't predict output correctly after 12 elements changed\n\nOriginal Array:\n[0, 1, 1, 1, 0, 1, 0, 0, 0, 1, 1, 0, 0, 0, 1, 1, 0, 0, 0, 1, 0, 1, 1, 1, 0, 1]\n\nNoisy Array:\n[0, 0, 1, 0, 1, 1, 0, 0, 0, 0, 0, 1, 0, 0, 0, 1, 1, 1, 1, 1, 0, 0, 1, 0, 0, 1]",
     "output_type": "error",
     "traceback": [
      "\u001b[0;31m---------------------------------------------------------------------------\u001b[0m",
      "\u001b[0;31mValueError\u001b[0m                                Traceback (most recent call last)",
      "Cell \u001b[0;32mIn[102], line 1\u001b[0m\n\u001b[0;32m----> 1\u001b[0m replace_and_predict(x2, \u001b[39m1\u001b[39;49m, replacement_bits, model)\n",
      "Cell \u001b[0;32mIn[100], line 9\u001b[0m, in \u001b[0;36mreplace_and_predict\u001b[0;34m(original_array, expected_prediction, replacement_bits, model)\u001b[0m\n\u001b[1;32m      7\u001b[0m new_array \u001b[39m=\u001b[39m replace_input(new_array, idx_to_replace)\n\u001b[1;32m      8\u001b[0m \u001b[39mif\u001b[39;00m model\u001b[39m.\u001b[39mpredict(np\u001b[39m.\u001b[39marray([new_array]))\u001b[39m.\u001b[39margmax(axis\u001b[39m=\u001b[39m\u001b[39m1\u001b[39m)[\u001b[39m0\u001b[39m] \u001b[39m!=\u001b[39m expected_prediction:\n\u001b[0;32m----> 9\u001b[0m     \u001b[39mraise\u001b[39;00m \u001b[39mValueError\u001b[39;00m(\u001b[39mf\u001b[39m\u001b[39m\"\u001b[39m\u001b[39mANN didn\u001b[39m\u001b[39m'\u001b[39m\u001b[39mt predict output correctly after \u001b[39m\u001b[39m{\u001b[39;00melements_replaced\u001b[39m \u001b[39m\u001b[39m+\u001b[39m\u001b[39m \u001b[39m\u001b[39m1\u001b[39m\u001b[39m}\u001b[39;00m\u001b[39m elements changed\u001b[39m\u001b[39m\\n\u001b[39;00m\u001b[39m\\n\u001b[39;00m\u001b[39mOriginal Array:\u001b[39m\u001b[39m\\n\u001b[39;00m\u001b[39m{\u001b[39;00moriginal_array\u001b[39m}\u001b[39;00m\u001b[39m\\n\u001b[39;00m\u001b[39m\\n\u001b[39;00m\u001b[39mNoisy Array:\u001b[39m\u001b[39m\\n\u001b[39;00m\u001b[39m{\u001b[39;00mnew_array\u001b[39m}\u001b[39;00m\u001b[39m\"\u001b[39m)\n",
      "\u001b[0;31mValueError\u001b[0m: ANN didn't predict output correctly after 12 elements changed\n\nOriginal Array:\n[0, 1, 1, 1, 0, 1, 0, 0, 0, 1, 1, 0, 0, 0, 1, 1, 0, 0, 0, 1, 0, 1, 1, 1, 0, 1]\n\nNoisy Array:\n[0, 0, 1, 0, 1, 1, 0, 0, 0, 0, 0, 1, 0, 0, 0, 1, 1, 1, 1, 1, 0, 0, 1, 0, 0, 1]"
     ]
    }
   ],
   "source": [
    "replace_and_predict(x2, 1, replacement_bits, model)"
   ]
  },
  {
   "cell_type": "code",
   "execution_count": 104,
   "metadata": {},
   "outputs": [
    {
     "name": "stdout",
     "output_type": "stream",
     "text": [
      "1/1 [==============================] - 0s 18ms/step\n",
      "1/1 [==============================] - 0s 21ms/step\n",
      "1/1 [==============================] - 0s 19ms/step\n",
      "1/1 [==============================] - 0s 20ms/step\n",
      "1/1 [==============================] - 0s 17ms/step\n",
      "1/1 [==============================] - 0s 18ms/step\n"
     ]
    },
    {
     "ename": "ValueError",
     "evalue": "ANN didn't predict output correctly after 6 elements changed\n\nOriginal Array:\n[0, 0, 0, 1, 1, 0, 0, 1, 0, 0, 1, 1, 0, 0, 0, 0, 0, 1, 0, 0, 0, 0, 0, 1, 1, 1]\n\nNoisy Array:\n[0, 1, 0, 1, 0, 0, 0, 1, 0, 0, 0, 0, 0, 0, 0, 0, 1, 1, 0, 0, 0, 0, 0, 0, 1, 1]",
     "output_type": "error",
     "traceback": [
      "\u001b[0;31m---------------------------------------------------------------------------\u001b[0m",
      "\u001b[0;31mValueError\u001b[0m                                Traceback (most recent call last)",
      "Cell \u001b[0;32mIn[104], line 1\u001b[0m\n\u001b[0;32m----> 1\u001b[0m replace_and_predict(x3, \u001b[39m2\u001b[39;49m, replacement_bits, model)\n",
      "Cell \u001b[0;32mIn[100], line 9\u001b[0m, in \u001b[0;36mreplace_and_predict\u001b[0;34m(original_array, expected_prediction, replacement_bits, model)\u001b[0m\n\u001b[1;32m      7\u001b[0m new_array \u001b[39m=\u001b[39m replace_input(new_array, idx_to_replace)\n\u001b[1;32m      8\u001b[0m \u001b[39mif\u001b[39;00m model\u001b[39m.\u001b[39mpredict(np\u001b[39m.\u001b[39marray([new_array]))\u001b[39m.\u001b[39margmax(axis\u001b[39m=\u001b[39m\u001b[39m1\u001b[39m)[\u001b[39m0\u001b[39m] \u001b[39m!=\u001b[39m expected_prediction:\n\u001b[0;32m----> 9\u001b[0m     \u001b[39mraise\u001b[39;00m \u001b[39mValueError\u001b[39;00m(\u001b[39mf\u001b[39m\u001b[39m\"\u001b[39m\u001b[39mANN didn\u001b[39m\u001b[39m'\u001b[39m\u001b[39mt predict output correctly after \u001b[39m\u001b[39m{\u001b[39;00melements_replaced\u001b[39m \u001b[39m\u001b[39m+\u001b[39m\u001b[39m \u001b[39m\u001b[39m1\u001b[39m\u001b[39m}\u001b[39;00m\u001b[39m elements changed\u001b[39m\u001b[39m\\n\u001b[39;00m\u001b[39m\\n\u001b[39;00m\u001b[39mOriginal Array:\u001b[39m\u001b[39m\\n\u001b[39;00m\u001b[39m{\u001b[39;00moriginal_array\u001b[39m}\u001b[39;00m\u001b[39m\\n\u001b[39;00m\u001b[39m\\n\u001b[39;00m\u001b[39mNoisy Array:\u001b[39m\u001b[39m\\n\u001b[39;00m\u001b[39m{\u001b[39;00mnew_array\u001b[39m}\u001b[39;00m\u001b[39m\"\u001b[39m)\n",
      "\u001b[0;31mValueError\u001b[0m: ANN didn't predict output correctly after 6 elements changed\n\nOriginal Array:\n[0, 0, 0, 1, 1, 0, 0, 1, 0, 0, 1, 1, 0, 0, 0, 0, 0, 1, 0, 0, 0, 0, 0, 1, 1, 1]\n\nNoisy Array:\n[0, 1, 0, 1, 0, 0, 0, 1, 0, 0, 0, 0, 0, 0, 0, 0, 1, 1, 0, 0, 0, 0, 0, 0, 1, 1]"
     ]
    }
   ],
   "source": [
    "replace_and_predict(x3, 2, replacement_bits, model)"
   ]
  },
  {
   "cell_type": "code",
   "execution_count": 105,
   "metadata": {},
   "outputs": [
    {
     "name": "stdout",
     "output_type": "stream",
     "text": [
      "1/1 [==============================] - 0s 20ms/step\n",
      "1/1 [==============================] - 0s 20ms/step\n",
      "1/1 [==============================] - 0s 20ms/step\n",
      "1/1 [==============================] - 0s 18ms/step\n",
      "1/1 [==============================] - 0s 19ms/step\n",
      "1/1 [==============================] - 0s 18ms/step\n",
      "1/1 [==============================] - 0s 18ms/step\n",
      "1/1 [==============================] - 0s 17ms/step\n",
      "1/1 [==============================] - 0s 17ms/step\n",
      "1/1 [==============================] - 0s 17ms/step\n"
     ]
    },
    {
     "ename": "ValueError",
     "evalue": "ANN didn't predict output correctly after 10 elements changed\n\nOriginal Array:\n[1, 1, 1, 1, 1, 1, 0, 0, 0, 0, 1, 1, 1, 1, 1, 0, 0, 0, 0, 1, 1, 1, 1, 1, 1, 1]\n\nNoisy Array:\n[1, 0, 1, 0, 0, 1, 0, 0, 0, 0, 0, 0, 1, 1, 0, 0, 1, 1, 1, 1, 1, 1, 1, 0, 1, 1]",
     "output_type": "error",
     "traceback": [
      "\u001b[0;31m---------------------------------------------------------------------------\u001b[0m",
      "\u001b[0;31mValueError\u001b[0m                                Traceback (most recent call last)",
      "Cell \u001b[0;32mIn[105], line 1\u001b[0m\n\u001b[0;32m----> 1\u001b[0m replace_and_predict(x4, \u001b[39m3\u001b[39;49m, replacement_bits, model)\n",
      "Cell \u001b[0;32mIn[100], line 9\u001b[0m, in \u001b[0;36mreplace_and_predict\u001b[0;34m(original_array, expected_prediction, replacement_bits, model)\u001b[0m\n\u001b[1;32m      7\u001b[0m new_array \u001b[39m=\u001b[39m replace_input(new_array, idx_to_replace)\n\u001b[1;32m      8\u001b[0m \u001b[39mif\u001b[39;00m model\u001b[39m.\u001b[39mpredict(np\u001b[39m.\u001b[39marray([new_array]))\u001b[39m.\u001b[39margmax(axis\u001b[39m=\u001b[39m\u001b[39m1\u001b[39m)[\u001b[39m0\u001b[39m] \u001b[39m!=\u001b[39m expected_prediction:\n\u001b[0;32m----> 9\u001b[0m     \u001b[39mraise\u001b[39;00m \u001b[39mValueError\u001b[39;00m(\u001b[39mf\u001b[39m\u001b[39m\"\u001b[39m\u001b[39mANN didn\u001b[39m\u001b[39m'\u001b[39m\u001b[39mt predict output correctly after \u001b[39m\u001b[39m{\u001b[39;00melements_replaced\u001b[39m \u001b[39m\u001b[39m+\u001b[39m\u001b[39m \u001b[39m\u001b[39m1\u001b[39m\u001b[39m}\u001b[39;00m\u001b[39m elements changed\u001b[39m\u001b[39m\\n\u001b[39;00m\u001b[39m\\n\u001b[39;00m\u001b[39mOriginal Array:\u001b[39m\u001b[39m\\n\u001b[39;00m\u001b[39m{\u001b[39;00moriginal_array\u001b[39m}\u001b[39;00m\u001b[39m\\n\u001b[39;00m\u001b[39m\\n\u001b[39;00m\u001b[39mNoisy Array:\u001b[39m\u001b[39m\\n\u001b[39;00m\u001b[39m{\u001b[39;00mnew_array\u001b[39m}\u001b[39;00m\u001b[39m\"\u001b[39m)\n",
      "\u001b[0;31mValueError\u001b[0m: ANN didn't predict output correctly after 10 elements changed\n\nOriginal Array:\n[1, 1, 1, 1, 1, 1, 0, 0, 0, 0, 1, 1, 1, 1, 1, 0, 0, 0, 0, 1, 1, 1, 1, 1, 1, 1]\n\nNoisy Array:\n[1, 0, 1, 0, 0, 1, 0, 0, 0, 0, 0, 0, 1, 1, 0, 0, 1, 1, 1, 1, 1, 1, 1, 0, 1, 1]"
     ]
    }
   ],
   "source": [
    "replace_and_predict(x4, 3, replacement_bits, model)"
   ]
  },
  {
   "cell_type": "code",
   "execution_count": 106,
   "metadata": {},
   "outputs": [
    {
     "name": "stdout",
     "output_type": "stream",
     "text": [
      "1/1 [==============================] - 0s 20ms/step\n",
      "1/1 [==============================] - 0s 19ms/step\n",
      "1/1 [==============================] - 0s 18ms/step\n",
      "1/1 [==============================] - 0s 20ms/step\n"
     ]
    },
    {
     "ename": "ValueError",
     "evalue": "ANN didn't predict output correctly after 4 elements changed\n\nOriginal Array:\n[0, 1, 1, 1, 0, 1, 0, 1, 0, 1, 1, 0, 1, 0, 1, 1, 0, 1, 0, 1, 0, 1, 1, 1, 0, 1]\n\nNoisy Array:\n[0, 0, 1, 1, 1, 1, 0, 1, 0, 1, 0, 1, 1, 0, 1, 1, 0, 1, 0, 1, 0, 1, 1, 1, 0, 1]",
     "output_type": "error",
     "traceback": [
      "\u001b[0;31m---------------------------------------------------------------------------\u001b[0m",
      "\u001b[0;31mValueError\u001b[0m                                Traceback (most recent call last)",
      "Cell \u001b[0;32mIn[106], line 1\u001b[0m\n\u001b[0;32m----> 1\u001b[0m replace_and_predict(x5, \u001b[39m4\u001b[39;49m, replacement_bits, model)\n",
      "Cell \u001b[0;32mIn[100], line 9\u001b[0m, in \u001b[0;36mreplace_and_predict\u001b[0;34m(original_array, expected_prediction, replacement_bits, model)\u001b[0m\n\u001b[1;32m      7\u001b[0m new_array \u001b[39m=\u001b[39m replace_input(new_array, idx_to_replace)\n\u001b[1;32m      8\u001b[0m \u001b[39mif\u001b[39;00m model\u001b[39m.\u001b[39mpredict(np\u001b[39m.\u001b[39marray([new_array]))\u001b[39m.\u001b[39margmax(axis\u001b[39m=\u001b[39m\u001b[39m1\u001b[39m)[\u001b[39m0\u001b[39m] \u001b[39m!=\u001b[39m expected_prediction:\n\u001b[0;32m----> 9\u001b[0m     \u001b[39mraise\u001b[39;00m \u001b[39mValueError\u001b[39;00m(\u001b[39mf\u001b[39m\u001b[39m\"\u001b[39m\u001b[39mANN didn\u001b[39m\u001b[39m'\u001b[39m\u001b[39mt predict output correctly after \u001b[39m\u001b[39m{\u001b[39;00melements_replaced\u001b[39m \u001b[39m\u001b[39m+\u001b[39m\u001b[39m \u001b[39m\u001b[39m1\u001b[39m\u001b[39m}\u001b[39;00m\u001b[39m elements changed\u001b[39m\u001b[39m\\n\u001b[39;00m\u001b[39m\\n\u001b[39;00m\u001b[39mOriginal Array:\u001b[39m\u001b[39m\\n\u001b[39;00m\u001b[39m{\u001b[39;00moriginal_array\u001b[39m}\u001b[39;00m\u001b[39m\\n\u001b[39;00m\u001b[39m\\n\u001b[39;00m\u001b[39mNoisy Array:\u001b[39m\u001b[39m\\n\u001b[39;00m\u001b[39m{\u001b[39;00mnew_array\u001b[39m}\u001b[39;00m\u001b[39m\"\u001b[39m)\n",
      "\u001b[0;31mValueError\u001b[0m: ANN didn't predict output correctly after 4 elements changed\n\nOriginal Array:\n[0, 1, 1, 1, 0, 1, 0, 1, 0, 1, 1, 0, 1, 0, 1, 1, 0, 1, 0, 1, 0, 1, 1, 1, 0, 1]\n\nNoisy Array:\n[0, 0, 1, 1, 1, 1, 0, 1, 0, 1, 0, 1, 1, 0, 1, 1, 0, 1, 0, 1, 0, 1, 1, 1, 0, 1]"
     ]
    }
   ],
   "source": [
    "replace_and_predict(x5, 4, replacement_bits, model)"
   ]
  },
  {
   "cell_type": "code",
   "execution_count": 107,
   "metadata": {},
   "outputs": [
    {
     "name": "stdout",
     "output_type": "stream",
     "text": [
      "1/1 [==============================] - 0s 19ms/step\n",
      "1/1 [==============================] - 0s 18ms/step\n",
      "1/1 [==============================] - 0s 19ms/step\n",
      "1/1 [==============================] - 0s 20ms/step\n",
      "1/1 [==============================] - 0s 18ms/step\n",
      "1/1 [==============================] - 0s 19ms/step\n",
      "1/1 [==============================] - 0s 18ms/step\n"
     ]
    },
    {
     "ename": "ValueError",
     "evalue": "ANN didn't predict output correctly after 7 elements changed\n\nOriginal Array:\n[1, 1, 0, 0, 0, 0, 0, 1, 0, 0, 0, 0, 0, 1, 1, 0, 0, 1, 0, 0, 1, 1, 0, 0, 0, 1]\n\nNoisy Array:\n[1, 0, 0, 0, 1, 0, 0, 1, 0, 0, 1, 1, 0, 1, 1, 0, 1, 1, 1, 0, 1, 1, 0, 1, 0, 1]",
     "output_type": "error",
     "traceback": [
      "\u001b[0;31m---------------------------------------------------------------------------\u001b[0m",
      "\u001b[0;31mValueError\u001b[0m                                Traceback (most recent call last)",
      "Cell \u001b[0;32mIn[107], line 1\u001b[0m\n\u001b[0;32m----> 1\u001b[0m replace_and_predict(x6, \u001b[39m5\u001b[39;49m, replacement_bits, model)\n",
      "Cell \u001b[0;32mIn[100], line 9\u001b[0m, in \u001b[0;36mreplace_and_predict\u001b[0;34m(original_array, expected_prediction, replacement_bits, model)\u001b[0m\n\u001b[1;32m      7\u001b[0m new_array \u001b[39m=\u001b[39m replace_input(new_array, idx_to_replace)\n\u001b[1;32m      8\u001b[0m \u001b[39mif\u001b[39;00m model\u001b[39m.\u001b[39mpredict(np\u001b[39m.\u001b[39marray([new_array]))\u001b[39m.\u001b[39margmax(axis\u001b[39m=\u001b[39m\u001b[39m1\u001b[39m)[\u001b[39m0\u001b[39m] \u001b[39m!=\u001b[39m expected_prediction:\n\u001b[0;32m----> 9\u001b[0m     \u001b[39mraise\u001b[39;00m \u001b[39mValueError\u001b[39;00m(\u001b[39mf\u001b[39m\u001b[39m\"\u001b[39m\u001b[39mANN didn\u001b[39m\u001b[39m'\u001b[39m\u001b[39mt predict output correctly after \u001b[39m\u001b[39m{\u001b[39;00melements_replaced\u001b[39m \u001b[39m\u001b[39m+\u001b[39m\u001b[39m \u001b[39m\u001b[39m1\u001b[39m\u001b[39m}\u001b[39;00m\u001b[39m elements changed\u001b[39m\u001b[39m\\n\u001b[39;00m\u001b[39m\\n\u001b[39;00m\u001b[39mOriginal Array:\u001b[39m\u001b[39m\\n\u001b[39;00m\u001b[39m{\u001b[39;00moriginal_array\u001b[39m}\u001b[39;00m\u001b[39m\\n\u001b[39;00m\u001b[39m\\n\u001b[39;00m\u001b[39mNoisy Array:\u001b[39m\u001b[39m\\n\u001b[39;00m\u001b[39m{\u001b[39;00mnew_array\u001b[39m}\u001b[39;00m\u001b[39m\"\u001b[39m)\n",
      "\u001b[0;31mValueError\u001b[0m: ANN didn't predict output correctly after 7 elements changed\n\nOriginal Array:\n[1, 1, 0, 0, 0, 0, 0, 1, 0, 0, 0, 0, 0, 1, 1, 0, 0, 1, 0, 0, 1, 1, 0, 0, 0, 1]\n\nNoisy Array:\n[1, 0, 0, 0, 1, 0, 0, 1, 0, 0, 1, 1, 0, 1, 1, 0, 1, 1, 1, 0, 1, 1, 0, 1, 0, 1]"
     ]
    }
   ],
   "source": [
    "replace_and_predict(x6, 5, replacement_bits, model)"
   ]
  }
 ],
 "metadata": {
  "kernelspec": {
   "display_name": "eeng415",
   "language": "python",
   "name": "python3"
  },
  "language_info": {
   "codemirror_mode": {
    "name": "ipython",
    "version": 3
   },
   "file_extension": ".py",
   "mimetype": "text/x-python",
   "name": "python",
   "nbconvert_exporter": "python",
   "pygments_lexer": "ipython3",
   "version": "3.8.16"
  },
  "orig_nbformat": 4
 },
 "nbformat": 4,
 "nbformat_minor": 2
}
