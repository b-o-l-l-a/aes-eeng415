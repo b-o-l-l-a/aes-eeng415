{
 "cells": [
  {
   "attachments": {},
   "cell_type": "markdown",
   "metadata": {},
   "source": [
    "1) Create  a  random  vector  with  200  entries,  consisting  of  positive  values.  One  way  to  do  this  could be \n",
    "abs(randn(200,1)).  Plot  the  histogram  of  the  data  and  find  its  skewness.  Then  use  the  command \n",
    "`boxcox` in Matlab to transform it to a dataset with smaller skewness. Plot the new histogram. "
   ]
  },
  {
   "cell_type": "code",
   "execution_count": 52,
   "metadata": {},
   "outputs": [
    {
     "data": {
      "image/png": "[encoded data removed]",
      "text/plain": [
       "<Figure size 640x480 with 1 Axes>"
      ]
     },
     "metadata": {},
     "output_type": "display_data"
    }
   ],
   "source": [
    "import numpy as np\n",
    "import matplotlib.pyplot as plt\n",
    "import scipy\n",
    "from sklearn import preprocessing\n",
    "\n",
    "random_vector = np.random.rand(200, 1)\n",
    "plt.hist(random_vector.flatten())\n",
    "plt.show()"
   ]
  },
  {
   "cell_type": "code",
   "execution_count": 53,
   "metadata": {},
   "outputs": [
    {
     "data": {
      "text/plain": [
       "-0.016789119599298137"
      ]
     },
     "execution_count": 53,
     "metadata": {},
     "output_type": "execute_result"
    }
   ],
   "source": [
    "scipy.stats.skew(random_vector.flatten())"
   ]
  },
  {
   "cell_type": "code",
   "execution_count": 54,
   "metadata": {},
   "outputs": [
    {
     "data": {
      "image/png": "[encoded data removed]",
      "text/plain": [
       "<Figure size 640x480 with 1 Axes>"
      ]
     },
     "metadata": {},
     "output_type": "display_data"
    }
   ],
   "source": [
    "random_vector_xformed, lmbda = scipy.stats.boxcox(np.ravel(random_vector))\n",
    "plt.hist(random_vector_xformed.flatten())\n",
    "plt.show()"
   ]
  },
  {
   "cell_type": "code",
   "execution_count": 55,
   "metadata": {},
   "outputs": [
    {
     "name": "stdout",
     "output_type": "stream",
     "text": [
      "lambda of boxcox: 0.6936130305121668\n",
      "skewness of boxcox transformed vector: -0.2800272465105373\n"
     ]
    }
   ],
   "source": [
    "print(f\"lambda of boxcox: {lmbda}\")\n",
    "print(f\"skewness of boxcox transformed vector: {scipy.stats.skew(random_vector_xformed)}\")"
   ]
  },
  {
   "cell_type": "code",
   "execution_count": null,
   "metadata": {},
   "outputs": [],
   "source": [
    "# def skewness_measurement(value, mean, sample_size, std_deviation):  \n",
    "#     numerator = (value - mean) / sample_size\n",
    "#     denominator = std_deviation ** 3\n",
    "#     return numerator / denominator\n",
    "\n",
    "# sum([skewness_measurement(val[0], np.mean(random_vector), len(random_vector), np.std(random_vector)) for val in random_vector]\n",
    "\n",
    "np.mean(random_vector)"
   ]
  },
  {
   "attachments": {},
   "cell_type": "markdown",
   "metadata": {},
   "source": [
    "2) Generate a 2-dimensional dataset in which X1 varies from –1 to +1 in 0.01 increments and X2 is equal to 2xX1 + noise. For noise, you can use random white noise*. Find the scatterplot of the data (X1 vs. X2). Now, augment the dataset by adding 10 outliers to it. Make sure the outlier points are sufficiently different from the rest of the data pattern. Apply the spatial sign transformation to the new augmented dataset and compare the new scatterplot with the original one.\n",
    "\n",
    "*Make sure you use a small magnitude so that the noise value does not overshadow X2. A magnitude of 0.2 is reasonable."
   ]
  },
  {
   "cell_type": "code",
   "execution_count": null,
   "metadata": {},
   "outputs": [],
   "source": [
    "import random\n",
    "\n",
    "x1 = [x / 100 for x in range(-100, 100)]\n",
    "x2 = [2 * x_val + random.uniform(-.2, .2) for x_val in x1]\n",
    "\n",
    "plt.scatter(x1, x2)\n",
    "plt.show()"
   ]
  },
  {
   "cell_type": "code",
   "execution_count": null,
   "metadata": {},
   "outputs": [],
   "source": [
    "x1_with_outliers = x1 + list(np.random.uniform(-2.5, 2.5, 10) )\n",
    "x2_with_outliers = x2 + list(np.random.uniform(-2.5, 2.5, 10) )\n",
    "\n",
    "plt.scatter(x1_with_outliers, x2_with_outliers)\n",
    "plt.show()"
   ]
  },
  {
   "cell_type": "code",
   "execution_count": null,
   "metadata": {},
   "outputs": [],
   "source": [
    "# Per sklearn docs, L2 normalization is same as spatial sign preprocessing\n",
    "## https://scikit-learn.org/stable/modules/preprocessing.html#normalization\n",
    "\n",
    "x1_normalized = preprocessing.normalize(np.asarray(x1_with_outliers).reshape(-1, 1), norm=\"l2\")\n",
    "x2_normalized = preprocessing.normalize(np.asarray(x2_with_outliers).reshape(-1, 1), norm=\"l2\")\n",
    "plt.scatter(x1_normalized, x2_normalized)\n",
    "plt.show()"
   ]
  },
  {
   "cell_type": "code",
   "execution_count": null,
   "metadata": {},
   "outputs": [],
   "source": [
    "import pandas as pd\n",
    "\n",
    "def standardize_column_min_max(df_column):\n",
    "\n",
    "    df_column = (df_column - df_column.min()) / (df_column.max() - df_column.min())\n",
    "\n",
    "    return df_column\n",
    "\n",
    "x1_normalized_postprocessing = preprocessing.normalize(np.asarray(standardize_column_min_max(pd.Series(x1_with_outliers))).reshape(-1, 1))\n",
    "x2_normalized_postprocessing = preprocessing.normalize(np.asarray(standardize_column_min_max(pd.Series(x2_with_outliers))).reshape(-1, 1))\n",
    "\n",
    "plt.scatter(x1_normalized, x2_normalized)\n",
    "plt.show()"
   ]
  },
  {
   "attachments": {},
   "cell_type": "markdown",
   "metadata": {},
   "source": [
    "3) Load the database Pizza.csv. Remove the first two columns and create a data table that consists of only the numeric values (columns 3 through 9). Normalize the matrix and find the principal components. Choose the number of components that explain at least 90% of the variations in data. Transform the data points into the new reduced-dimension domain."
   ]
  },
  {
   "cell_type": "code",
   "execution_count": 56,
   "metadata": {},
   "outputs": [
    {
     "data": {
      "text/html": [
       "<style>#sk-container-id-2 {color: black;background-color: white;}#sk-container-id-2 pre{padding: 0;}#sk-container-id-2 div.sk-toggleable {background-color: white;}#sk-container-id-2 label.sk-toggleable__label {cursor: pointer;display: block;width: 100%;margin-bottom: 0;padding: 0.3em;box-sizing: border-box;text-align: center;}#sk-container-id-2 label.sk-toggleable__label-arrow:before {content: \"▸\";float: left;margin-right: 0.25em;color: #696969;}#sk-container-id-2 label.sk-toggleable__label-arrow:hover:before {color: black;}#sk-container-id-2 div.sk-estimator:hover label.sk-toggleable__label-arrow:before {color: black;}#sk-container-id-2 div.sk-toggleable__content {max-height: 0;max-width: 0;overflow: hidden;text-align: left;background-color: #f0f8ff;}#sk-container-id-2 div.sk-toggleable__content pre {margin: 0.2em;color: black;border-radius: 0.25em;background-color: #f0f8ff;}#sk-container-id-2 input.sk-toggleable__control:checked~div.sk-toggleable__content {max-height: 200px;max-width: 100%;overflow: auto;}#sk-container-id-2 input.sk-toggleable__control:checked~label.sk-toggleable__label-arrow:before {content: \"▾\";}#sk-container-id-2 div.sk-estimator input.sk-toggleable__control:checked~label.sk-toggleable__label {background-color: #d4ebff;}#sk-container-id-2 div.sk-label input.sk-toggleable__control:checked~label.sk-toggleable__label {background-color: #d4ebff;}#sk-container-id-2 input.sk-hidden--visually {border: 0;clip: rect(1px 1px 1px 1px);clip: rect(1px, 1px, 1px, 1px);height: 1px;margin: -1px;overflow: hidden;padding: 0;position: absolute;width: 1px;}#sk-container-id-2 div.sk-estimator {font-family: monospace;background-color: #f0f8ff;border: 1px dotted black;border-radius: 0.25em;box-sizing: border-box;margin-bottom: 0.5em;}#sk-container-id-2 div.sk-estimator:hover {background-color: #d4ebff;}#sk-container-id-2 div.sk-parallel-item::after {content: \"\";width: 100%;border-bottom: 1px solid gray;flex-grow: 1;}#sk-container-id-2 div.sk-label:hover label.sk-toggleable__label {background-color: #d4ebff;}#sk-container-id-2 div.sk-serial::before {content: \"\";position: absolute;border-left: 1px solid gray;box-sizing: border-box;top: 0;bottom: 0;left: 50%;z-index: 0;}#sk-container-id-2 div.sk-serial {display: flex;flex-direction: column;align-items: center;background-color: white;padding-right: 0.2em;padding-left: 0.2em;position: relative;}#sk-container-id-2 div.sk-item {position: relative;z-index: 1;}#sk-container-id-2 div.sk-parallel {display: flex;align-items: stretch;justify-content: center;background-color: white;position: relative;}#sk-container-id-2 div.sk-item::before, #sk-container-id-2 div.sk-parallel-item::before {content: \"\";position: absolute;border-left: 1px solid gray;box-sizing: border-box;top: 0;bottom: 0;left: 50%;z-index: -1;}#sk-container-id-2 div.sk-parallel-item {display: flex;flex-direction: column;z-index: 1;position: relative;background-color: white;}#sk-container-id-2 div.sk-parallel-item:first-child::after {align-self: flex-end;width: 50%;}#sk-container-id-2 div.sk-parallel-item:last-child::after {align-self: flex-start;width: 50%;}#sk-container-id-2 div.sk-parallel-item:only-child::after {width: 0;}#sk-container-id-2 div.sk-dashed-wrapped {border: 1px dashed gray;margin: 0 0.4em 0.5em 0.4em;box-sizing: border-box;padding-bottom: 0.4em;background-color: white;}#sk-container-id-2 div.sk-label label {font-family: monospace;font-weight: bold;display: inline-block;line-height: 1.2em;}#sk-container-id-2 div.sk-label-container {text-align: center;}#sk-container-id-2 div.sk-container {/* jupyter's `normalize.less` sets `[hidden] { display: none; }` but bootstrap.min.css set `[hidden] { display: none !important; }` so we also need the `!important` here to be able to override the default hidden behavior on the sphinx rendered scikit-learn.org. See: https://github.com/scikit-learn/scikit-learn/issues/21755 */display: inline-block !important;position: relative;}#sk-container-id-2 div.sk-text-repr-fallback {display: none;}</style><div id=\"sk-container-id-2\" class=\"sk-top-container\"><div class=\"sk-text-repr-fallback\"><pre>PCA(n_components=0.9)</pre><b>In a Jupyter environment, please rerun this cell to show the HTML representation or trust the notebook. <br />On GitHub, the HTML representation is unable to render, please try loading this page with nbviewer.org.</b></div><div class=\"sk-container\" hidden><div class=\"sk-item\"><div class=\"sk-estimator sk-toggleable\"><input class=\"sk-toggleable__control sk-hidden--visually\" id=\"sk-estimator-id-2\" type=\"checkbox\" checked><label for=\"sk-estimator-id-2\" class=\"sk-toggleable__label sk-toggleable__label-arrow\">PCA</label><div class=\"sk-toggleable__content\"><pre>PCA(n_components=0.9)</pre></div></div></div></div></div>"
      ],
      "text/plain": [
       "PCA(n_components=0.9)"
      ]
     },
     "execution_count": 56,
     "metadata": {},
     "output_type": "execute_result"
    }
   ],
   "source": [
    "import pandas as pd\n",
    "from sklearn.decomposition import PCA\n",
    "\n",
    "pizza_df = pd.read_csv('./Pizza.csv')\n",
    "NUMERIC_COLUMNS = ['mois', 'prot', 'fat', 'ash', 'sodium', 'carb', 'cal']\n",
    "pizza_df_numeric_data = pizza_df[NUMERIC_COLUMNS]\n",
    "\n",
    "def normalize_column_min_max(df_column):\n",
    "\n",
    "    df_column = (df_column - df_column.min()) / (df_column.max() - df_column.min())\n",
    "\n",
    "    return df_column\n",
    "\n",
    "pizza_df_normalized = pd.DataFrame()\n",
    "for col in pizza_df_numeric_data.columns:\n",
    "    pizza_df_normalized[col] = normalize_column_min_max(pizza_df_numeric_data[col])\n",
    "\n",
    "pca = PCA(n_components=0.9)\n",
    "pca.fit(pizza_df_normalized)\n"
   ]
  },
  {
   "cell_type": "code",
   "execution_count": 60,
   "metadata": {},
   "outputs": [
    {
     "data": {
      "text/plain": [
       "array([[ 0.21060309,  0.43802639,  0.26074981,  0.48052378,  0.29429634,\n",
       "        -0.61101679,  0.07024102],\n",
       "       [-0.6598598 , -0.08642453,  0.32954503,  0.12292779,  0.34779214,\n",
       "         0.17640078,  0.53040368]])"
      ]
     },
     "execution_count": 60,
     "metadata": {},
     "output_type": "execute_result"
    }
   ],
   "source": [
    "pca.components_"
   ]
  },
  {
   "cell_type": "code",
   "execution_count": 59,
   "metadata": {},
   "outputs": [
    {
     "data": {
      "text/html": [
       "<div>\n",
       "<style scoped>\n",
       "    .dataframe tbody tr th:only-of-type {\n",
       "        vertical-align: middle;\n",
       "    }\n",
       "\n",
       "    .dataframe tbody tr th {\n",
       "        vertical-align: top;\n",
       "    }\n",
       "\n",
       "    .dataframe thead th {\n",
       "        text-align: right;\n",
       "    }\n",
       "</style>\n",
       "<table border=\"1\" class=\"dataframe\">\n",
       "  <thead>\n",
       "    <tr style=\"text-align: right;\">\n",
       "      <th></th>\n",
       "      <th>x1</th>\n",
       "      <th>x2</th>\n",
       "    </tr>\n",
       "  </thead>\n",
       "  <tbody>\n",
       "    <tr>\n",
       "      <th>0</th>\n",
       "      <td>1.039049</td>\n",
       "      <td>0.967665</td>\n",
       "    </tr>\n",
       "    <tr>\n",
       "      <th>1</th>\n",
       "      <td>1.058409</td>\n",
       "      <td>0.942694</td>\n",
       "    </tr>\n",
       "    <tr>\n",
       "      <th>2</th>\n",
       "      <td>0.988682</td>\n",
       "      <td>0.940888</td>\n",
       "    </tr>\n",
       "    <tr>\n",
       "      <th>3</th>\n",
       "      <td>0.941202</td>\n",
       "      <td>0.825626</td>\n",
       "    </tr>\n",
       "    <tr>\n",
       "      <th>4</th>\n",
       "      <td>0.957416</td>\n",
       "      <td>0.807153</td>\n",
       "    </tr>\n",
       "    <tr>\n",
       "      <th>...</th>\n",
       "      <td>...</td>\n",
       "      <td>...</td>\n",
       "    </tr>\n",
       "    <tr>\n",
       "      <th>295</th>\n",
       "      <td>-0.098780</td>\n",
       "      <td>-0.160793</td>\n",
       "    </tr>\n",
       "    <tr>\n",
       "      <th>296</th>\n",
       "      <td>-0.071873</td>\n",
       "      <td>-0.085490</td>\n",
       "    </tr>\n",
       "    <tr>\n",
       "      <th>297</th>\n",
       "      <td>-0.126481</td>\n",
       "      <td>-0.162791</td>\n",
       "    </tr>\n",
       "    <tr>\n",
       "      <th>298</th>\n",
       "      <td>-0.135940</td>\n",
       "      <td>-0.285504</td>\n",
       "    </tr>\n",
       "    <tr>\n",
       "      <th>299</th>\n",
       "      <td>-0.164893</td>\n",
       "      <td>-0.251724</td>\n",
       "    </tr>\n",
       "  </tbody>\n",
       "</table>\n",
       "<p>300 rows × 2 columns</p>\n",
       "</div>"
      ],
      "text/plain": [
       "           x1        x2\n",
       "0    1.039049  0.967665\n",
       "1    1.058409  0.942694\n",
       "2    0.988682  0.940888\n",
       "3    0.941202  0.825626\n",
       "4    0.957416  0.807153\n",
       "..        ...       ...\n",
       "295 -0.098780 -0.160793\n",
       "296 -0.071873 -0.085490\n",
       "297 -0.126481 -0.162791\n",
       "298 -0.135940 -0.285504\n",
       "299 -0.164893 -0.251724\n",
       "\n",
       "[300 rows x 2 columns]"
      ]
     },
     "execution_count": 59,
     "metadata": {},
     "output_type": "execute_result"
    }
   ],
   "source": [
    "reduced_dimension_df = pd.DataFrame(pca.transform(pizza_df_normalized), columns=[\"x1\", \"x2\"])\n",
    "reduced_dimension_df"
   ]
  },
  {
   "cell_type": "code",
   "execution_count": 62,
   "metadata": {},
   "outputs": [
    {
     "data": {
      "text/plain": [
       "mois      0.087523\n",
       "prot      0.672093\n",
       "fat       0.945586\n",
       "ash       0.924883\n",
       "sodium    0.987013\n",
       "carb      0.005402\n",
       "cal       0.948276\n",
       "Name: 0, dtype: float64"
      ]
     },
     "execution_count": 62,
     "metadata": {},
     "output_type": "execute_result"
    }
   ],
   "source": []
  },
  {
   "cell_type": "code",
   "execution_count": 64,
   "metadata": {},
   "outputs": [
    {
     "data": {
      "text/plain": [
       "1.3575981043998493"
      ]
     },
     "execution_count": 64,
     "metadata": {},
     "output_type": "execute_result"
    }
   ],
   "source": [
    "first_row = pizza_df_normalized.iloc[0]\n",
    "\n",
    "first_row['mois'] * 0.21060309 \\\n",
    "    + first_row['prot'] * 0.43802639 \\\n",
    "    + first_row['fat'] * 0.26074981 \\\n",
    "    + first_row['ash'] * 0.48052378 \\\n",
    "    + first_row['sodium'] * 0.29429634 \\\n",
    "    + first_row['carb'] * -0.61101679 \\\n",
    "    + first_row['cal'] * 0.07024102"
   ]
  },
  {
   "cell_type": "code",
   "execution_count": null,
   "metadata": {},
   "outputs": [],
   "source": [
    "def transform_df_to_reduced_dimensions(df, principal_component):\n",
    "\n",
    "    for row in df.iterrows():\n",
    "\n",
    "        \n",
    "    output_df = df.copy()\n",
    "    for index in range(len(principal_component)):\n",
    "        \n",
    "        column_coefficient = principal_component[index]\n",
    "        output_df.iloc[:, index] = output_df.iloc[:, index] * column_coefficient\n",
    "\n",
    "    return output_df\n",
    "\n",
    "\n",
    "reduced_dimension_df = pd.DataFrame()\n",
    "for component_number in range(pca.n_components_):\n",
    "\n",
    "    principal_component = pca.components_[component_number]\n",
    "\n",
    "    reduced_dimension_df[f\"X{component_number}\"] = transform_df_to_reduced_dimensions(pizza_df_normalized, principal_component)\n",
    "    \n"
   ]
  },
  {
   "cell_type": "code",
   "execution_count": null,
   "metadata": {},
   "outputs": [],
   "source": [
    "print(pizza_df_normalized.iloc[0])\n",
    "print(principal_component)"
   ]
  },
  {
   "cell_type": "code",
   "execution_count": null,
   "metadata": {},
   "outputs": [],
   "source": [
    "sum(pizza_df_normalized.iloc[0] * principal_component)"
   ]
  }
 ],
 "metadata": {
  "kernelspec": {
   "display_name": "eeng415",
   "language": "python",
   "name": "python3"
  },
  "language_info": {
   "codemirror_mode": {
    "name": "ipython",
    "version": 3
   },
   "file_extension": ".py",
   "mimetype": "text/x-python",
   "name": "python",
   "nbconvert_exporter": "python",
   "pygments_lexer": "ipython3",
   "version": "3.8.16"
  },
  "orig_nbformat": 4,
  "vscode": {
   "interpreter": {
    "hash": "8604efd85267246b5ae95b2c8bfe7ed65ebcf449068d7e624ae32e9b67f234be"
   }
  }
 },
 "nbformat": 4,
 "nbformat_minor": 2
}
